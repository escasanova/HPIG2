{
 "cells": [
  {
   "cell_type": "markdown",
   "metadata": {},
   "source": [
    "### Importacion de Modulos"
   ]
  },
  {
   "cell_type": "code",
   "execution_count": 469,
   "metadata": {},
   "outputs": [],
   "source": [
    "import pandas as pd\n",
    "import numpy as np\n",
    "import matplotlib.pyplot as plt\n",
    "import seaborn as sns\n",
    "import re  \n",
    "import unicodedata"
   ]
  },
  {
   "cell_type": "markdown",
   "metadata": {},
   "source": [
    "### Analisis de tabla PurchasePrices"
   ]
  },
  {
   "cell_type": "code",
   "execution_count": 491,
   "metadata": {},
   "outputs": [
    {
     "data": {
      "text/html": [
       "<div>\n",
       "<style scoped>\n",
       "    .dataframe tbody tr th:only-of-type {\n",
       "        vertical-align: middle;\n",
       "    }\n",
       "\n",
       "    .dataframe tbody tr th {\n",
       "        vertical-align: top;\n",
       "    }\n",
       "\n",
       "    .dataframe thead th {\n",
       "        text-align: right;\n",
       "    }\n",
       "</style>\n",
       "<table border=\"1\" class=\"dataframe\">\n",
       "  <thead>\n",
       "    <tr style=\"text-align: right;\">\n",
       "      <th></th>\n",
       "      <th>Brand</th>\n",
       "      <th>Description</th>\n",
       "      <th>Price</th>\n",
       "      <th>Size</th>\n",
       "      <th>Volume</th>\n",
       "      <th>Classification</th>\n",
       "      <th>PurchasePrice</th>\n",
       "      <th>VendorNumber</th>\n",
       "      <th>VendorName</th>\n",
       "    </tr>\n",
       "  </thead>\n",
       "  <tbody>\n",
       "    <tr>\n",
       "      <th>0</th>\n",
       "      <td>58</td>\n",
       "      <td>Gekkeikan Black &amp; Gold Sake</td>\n",
       "      <td>12.99</td>\n",
       "      <td>750mL</td>\n",
       "      <td>750</td>\n",
       "      <td>1</td>\n",
       "      <td>9.28</td>\n",
       "      <td>8320</td>\n",
       "      <td>SHAW ROSS INT L IMP LTD</td>\n",
       "    </tr>\n",
       "    <tr>\n",
       "      <th>1</th>\n",
       "      <td>62</td>\n",
       "      <td>Herradura Silver Tequila</td>\n",
       "      <td>36.99</td>\n",
       "      <td>750mL</td>\n",
       "      <td>750</td>\n",
       "      <td>1</td>\n",
       "      <td>28.67</td>\n",
       "      <td>1128</td>\n",
       "      <td>BROWN-FORMAN CORP</td>\n",
       "    </tr>\n",
       "    <tr>\n",
       "      <th>2</th>\n",
       "      <td>63</td>\n",
       "      <td>Herradura Reposado Tequila</td>\n",
       "      <td>38.99</td>\n",
       "      <td>750mL</td>\n",
       "      <td>750</td>\n",
       "      <td>1</td>\n",
       "      <td>30.46</td>\n",
       "      <td>1128</td>\n",
       "      <td>BROWN-FORMAN CORP</td>\n",
       "    </tr>\n",
       "    <tr>\n",
       "      <th>3</th>\n",
       "      <td>72</td>\n",
       "      <td>No. 3 London Dry Gin</td>\n",
       "      <td>34.99</td>\n",
       "      <td>750mL</td>\n",
       "      <td>750</td>\n",
       "      <td>1</td>\n",
       "      <td>26.11</td>\n",
       "      <td>9165</td>\n",
       "      <td>ULTRA BEVERAGE COMPANY LLP</td>\n",
       "    </tr>\n",
       "    <tr>\n",
       "      <th>4</th>\n",
       "      <td>75</td>\n",
       "      <td>Three Olives Tomato Vodka</td>\n",
       "      <td>14.99</td>\n",
       "      <td>750mL</td>\n",
       "      <td>750</td>\n",
       "      <td>1</td>\n",
       "      <td>10.94</td>\n",
       "      <td>7245</td>\n",
       "      <td>PROXIMO SPIRITS INC.</td>\n",
       "    </tr>\n",
       "  </tbody>\n",
       "</table>\n",
       "</div>"
      ],
      "text/plain": [
       "   Brand                  Description  Price   Size Volume  Classification  \\\n",
       "0     58  Gekkeikan Black & Gold Sake  12.99  750mL    750               1   \n",
       "1     62     Herradura Silver Tequila  36.99  750mL    750               1   \n",
       "2     63   Herradura Reposado Tequila  38.99  750mL    750               1   \n",
       "3     72         No. 3 London Dry Gin  34.99  750mL    750               1   \n",
       "4     75    Three Olives Tomato Vodka  14.99  750mL    750               1   \n",
       "\n",
       "   PurchasePrice  VendorNumber                   VendorName  \n",
       "0           9.28          8320  SHAW ROSS INT L IMP LTD      \n",
       "1          28.67          1128  BROWN-FORMAN CORP            \n",
       "2          30.46          1128  BROWN-FORMAN CORP            \n",
       "3          26.11          9165  ULTRA BEVERAGE COMPANY LLP   \n",
       "4          10.94          7245  PROXIMO SPIRITS INC.         "
      ]
     },
     "execution_count": 491,
     "metadata": {},
     "output_type": "execute_result"
    }
   ],
   "source": [
    "purchasePrices = pd.read_csv('PurchasePricesDec.csv')\n",
    "purchasePrices.head()"
   ]
  },
  {
   "cell_type": "markdown",
   "metadata": {},
   "source": [
    "#### Identificar tipos de datos"
   ]
  },
  {
   "cell_type": "code",
   "execution_count": 492,
   "metadata": {},
   "outputs": [
    {
     "name": "stdout",
     "output_type": "stream",
     "text": [
      "<class 'pandas.core.frame.DataFrame'>\n",
      "RangeIndex: 12261 entries, 0 to 12260\n",
      "Data columns (total 9 columns):\n",
      " #   Column          Non-Null Count  Dtype  \n",
      "---  ------          --------------  -----  \n",
      " 0   Brand           12261 non-null  int64  \n",
      " 1   Description     12260 non-null  object \n",
      " 2   Price           12261 non-null  float64\n",
      " 3   Size            12260 non-null  object \n",
      " 4   Volume          12260 non-null  object \n",
      " 5   Classification  12261 non-null  int64  \n",
      " 6   PurchasePrice   12261 non-null  float64\n",
      " 7   VendorNumber    12261 non-null  int64  \n",
      " 8   VendorName      12261 non-null  object \n",
      "dtypes: float64(2), int64(3), object(4)\n",
      "memory usage: 862.2+ KB\n"
     ]
    }
   ],
   "source": [
    "# Revisar los tipos de datos para cada tabla\n",
    "purchasePrices.info()"
   ]
  },
  {
   "cell_type": "markdown",
   "metadata": {},
   "source": [
    "#### Modificar tipo de dato"
   ]
  },
  {
   "cell_type": "code",
   "execution_count": 493,
   "metadata": {},
   "outputs": [
    {
     "name": "stdout",
     "output_type": "stream",
     "text": [
      "Tipos de datos después de unificar:\n",
      "Brand                      int64\n",
      "Description       string[python]\n",
      "Price                    float64\n",
      "Size              string[python]\n",
      "Volume            string[python]\n",
      "Classification             int64\n",
      "PurchasePrice            float64\n",
      "VendorNumber               int64\n",
      "VendorName        string[python]\n",
      "dtype: object\n",
      "   Brand                  Description  Price   Size Volume  Classification  \\\n",
      "0     58  Gekkeikan Black & Gold Sake  12.99  750mL    750               1   \n",
      "1     62     Herradura Silver Tequila  36.99  750mL    750               1   \n",
      "2     63   Herradura Reposado Tequila  38.99  750mL    750               1   \n",
      "3     72         No. 3 London Dry Gin  34.99  750mL    750               1   \n",
      "4     75    Three Olives Tomato Vodka  14.99  750mL    750               1   \n",
      "\n",
      "   PurchasePrice  VendorNumber                   VendorName  \n",
      "0           9.28          8320  SHAW ROSS INT L IMP LTD      \n",
      "1          28.67          1128  BROWN-FORMAN CORP            \n",
      "2          30.46          1128  BROWN-FORMAN CORP            \n",
      "3          26.11          9165  ULTRA BEVERAGE COMPANY LLP   \n",
      "4          10.94          7245  PROXIMO SPIRITS INC.         \n"
     ]
    }
   ],
   "source": [
    "# Función para unificar tipos de datos en un DataFrame\n",
    "def unify_column_types(purchasePrices):\n",
    "    # Convertir columnas numéricas a tipos consistentes\n",
    "    for col in purchasePrices.select_dtypes(include=['number']).columns:\n",
    "        if purchasePrices[col].dtype == 'float64' and purchasePrices[col].dropna().apply(float.is_integer).all():\n",
    "            # Convertir columnas flotantes que tienen solo valores enteros a int64\n",
    "            purchasePrices[col] = purchasePrices[col].astype('int64')\n",
    "        elif purchasePrices[col].dtype == 'int64':\n",
    "            continue  # Mantener columnas que ya son int64\n",
    "        else:\n",
    "            purchasePrices[col] = purchasePrices[col].astype('float64')  # Asegurar columnas numéricas flotantes\n",
    "\n",
    "    # Convertir columnas de texto a string\n",
    "    string_columns = purchasePrices.select_dtypes(include=['object']).columns\n",
    "    purchasePrices[string_columns] = purchasePrices[string_columns].astype('string')\n",
    "\n",
    "    return purchasePrices\n",
    "\n",
    "# Aplicar la función al DataFrame\n",
    "purchasePrices = unify_column_types(purchasePrices)\n",
    "\n",
    "# Verificar el resultado final\n",
    "print(\"Tipos de datos después de unificar:\")\n",
    "print(purchasePrices.dtypes)\n",
    "\n",
    "# Mostrar las primeras filas\n",
    "print(purchasePrices.head())"
   ]
  },
  {
   "cell_type": "code",
   "execution_count": 494,
   "metadata": {},
   "outputs": [
    {
     "name": "stdout",
     "output_type": "stream",
     "text": [
      "Primeras filas después de limpiar las columnas de tipo string:\n",
      "   Brand                  Description  Price   Size  Volume  Classification  \\\n",
      "0     58  gekkeikan black & gold sake  12.99  750ml   750.0               1   \n",
      "1     62     herradura silver tequila  36.99  750ml   750.0               1   \n",
      "2     63   herradura reposado tequila  38.99  750ml   750.0               1   \n",
      "3     72         no. 3 london dry gin  34.99  750ml   750.0               1   \n",
      "4     75    three olives tomato vodka  14.99  750ml   750.0               1   \n",
      "\n",
      "   PurchasePrice  VendorNumber                  VendorName  \n",
      "0           9.28          8320     shaw ross int l imp ltd  \n",
      "1          28.67          1128           brown-forman corp  \n",
      "2          30.46          1128           brown-forman corp  \n",
      "3          26.11          9165  ultra beverage company llp  \n",
      "4          10.94          7245        proximo spirits inc.  \n",
      "Tipos de datos después de la conversión a string:\n",
      "Brand                      Int64\n",
      "Description       string[python]\n",
      "Price                    Float64\n",
      "Size              string[python]\n",
      "Volume                   float64\n",
      "Classification             Int64\n",
      "PurchasePrice            Float64\n",
      "VendorNumber               Int64\n",
      "VendorName        string[python]\n",
      "dtype: object\n"
     ]
    }
   ],
   "source": [
    "# Función para limpiar strings\n",
    "def clean_string(s):\n",
    "    if pd.isnull(s):  # Si es nulo, lo devuelve tal cual\n",
    "        return s\n",
    "    # Eliminar acentos y normalizar el texto\n",
    "    s = unicodedata.normalize('NFKD', s).encode('ascii', 'ignore').decode('utf-8')\n",
    "    # Convertir a minúsculas, quitar espacios al inicio/final y reemplazar múltiples espacios\n",
    "    return ' '.join(s.strip().lower().split())\n",
    "\n",
    "# Convertir columnas de tipo object a string y limpiarlas\n",
    "purchasePrices = purchasePrices.convert_dtypes()  # Cambiar a tipos más apropiados\n",
    "string_columns = purchasePrices.select_dtypes(include=['string', 'object']).columns\n",
    "\n",
    "for col in string_columns:\n",
    "    purchasePrices[col] = purchasePrices[col].apply(clean_string)\n",
    "\n",
    "# Reemplazar valores \"Unknown\" y pd.NA en Volume por NaN y convertirla a float\n",
    "purchasePrices['Volume'] = purchasePrices['Volume'].replace([\"unknown\", pd.NA], np.nan).astype(float)\n",
    "\n",
    "# Asegurarse de que todas las columnas de tipo object se conviertan a string\n",
    "string_columns = purchasePrices.select_dtypes(include=['object']).columns\n",
    "purchasePrices[string_columns] = purchasePrices[string_columns].astype('string')\n",
    "\n",
    "# Verificar los resultados finales\n",
    "print(\"Primeras filas después de limpiar las columnas de tipo string:\")\n",
    "print(purchasePrices.head())\n",
    "print(\"Tipos de datos después de la conversión a string:\")\n",
    "print(purchasePrices.dtypes)\n"
   ]
  },
  {
   "cell_type": "markdown",
   "metadata": {},
   "source": [
    "#### Analisis de columna 'Size' "
   ]
  },
  {
   "cell_type": "code",
   "execution_count": 495,
   "metadata": {},
   "outputs": [
    {
     "name": "stdout",
     "output_type": "stream",
     "text": [
      "<StringArray>\n",
      "[      '750ml',      '1000ml',      '1750ml',        '50ml',       '375ml',\n",
      "  '100ml 4 pk',   '50ml 5 pk',       '100ml',       '200ml',   '50ml 4 pk',\n",
      "   '50ml 3 pk',       '300ml',  '200ml 4 pk',     'unknown',  '750ml 2 pk',\n",
      "  '250ml 4 pk',      '1500ml',      '3000ml',      '5000ml',      '4000ml',\n",
      "  '187ml 4 pk',       '150ml',       '187ml',       '500ml',       '720ml',\n",
      "       '650ml',  '200ml 3 pk',  '187ml 3 pk',       '330ml',       '250ml',\n",
      "  '750ml + 3/',     '18000ml',       '180ml',  '750ml + 4/',      '6000ml',\n",
      " '1000ml 2 pk',  '750ml 12 p',  '750ml 6 pk',   '20ml 5 pk',          <NA>,\n",
      "  '375ml 2 pk',     '20000ml',  '50ml 12 pk',  '750ml 3 pk',  '375ml 3 pk',\n",
      "  '750ml + 1/',  '200ml 5 pk',     '162.5ml',       '400ml',      '1100ml',\n",
      "       '600ml',     '19500ml',       '560ml',      '3750ml',     '750ml 3',\n",
      "      '9000ml']\n",
      "Length: 56, dtype: string\n"
     ]
    }
   ],
   "source": [
    "# Verificar valores únicos en Size\n",
    "print(purchasePrices['Size'].unique())"
   ]
  },
  {
   "cell_type": "markdown",
   "metadata": {},
   "source": [
    "La mayoría de los valores están en mililitros (ml).\n",
    "Algunos tienen sufijos como pk para indicar paquetes.\n",
    "Otros incluyen valores desconocidos (Unknown) o formatos adicionales (+ 3/)"
   ]
  },
  {
   "cell_type": "markdown",
   "metadata": {},
   "source": [
    "#### Transformacion de columna size para obtener mL totales, paquetes (No use la columna de volumen porque no me indica correctamente cuando hay paquetes) "
   ]
  },
  {
   "cell_type": "code",
   "execution_count": 496,
   "metadata": {},
   "outputs": [
    {
     "name": "stdout",
     "output_type": "stream",
     "text": [
      "Primeras filas del DataFrame después de procesar la columna 'Size':\n",
      "     Size  size_ml  pack_count\n",
      "0   750ml    750.0         1.0\n",
      "1   750ml    750.0         1.0\n",
      "2   750ml    750.0         1.0\n",
      "3   750ml    750.0         1.0\n",
      "4   750ml    750.0         1.0\n",
      "5   750ml    750.0         1.0\n",
      "6   750ml    750.0         1.0\n",
      "7  1000ml   1000.0         1.0\n",
      "8  1000ml   1000.0         1.0\n",
      "9   750ml    750.0         1.0\n",
      "Valores nulos en las columnas derivadas:\n",
      "size_ml       5\n",
      "pack_count    5\n",
      "dtype: int64\n",
      "Valores problemáticos en la columna 'Size':\n",
      "<StringArray>\n",
      "['unknown', <NA>]\n",
      "Length: 2, dtype: string\n"
     ]
    }
   ],
   "source": [
    "# Función para procesar la columna 'Size'\n",
    "def parse_size(size):\n",
    "    if pd.isnull(size):  # Verificar si el valor es nulo\n",
    "        return {\"size_ml\": np.nan, \"pack_count\": np.nan}  # Retorna valores nulos si el campo es vacío\n",
    "    \n",
    "    size = size.strip().lower()  # Elimina espacios al principio/final y convierte a minúsculas\n",
    "\n",
    "    #################################################################################################\n",
    "    # Manejar paquetes, como \"100mL 4 Pk\"\n",
    "    # Busca coincidencias con el patrón (\\d+(?:\\.\\d+)?)(ml|l) (\\d+) pk\n",
    "    #################################################################################################\n",
    "    match = re.match(r\"(\\d+(?:\\.\\d+)?)(ml|l) (\\d+) pk\", size)  # Buscar coincidencias con regex\n",
    "    if match:\n",
    "        unit_size = float(match.group(1))  # Tamaño individual\n",
    "        if match.group(2) == 'l':  # Convertir litros a mililitros\n",
    "            unit_size *= 1000\n",
    "        pack_count = int(match.group(3))  # Número de botellas en el paquete\n",
    "        return {\"size_ml\": unit_size, \"pack_count\": pack_count}\n",
    "\n",
    "    #################################################################################################\n",
    "    # Manejar tamaños con adicionales, como \"750mL + 3/\"\n",
    "    #################################################################################################\n",
    "    match = re.match(r\"(\\d+(?:\\.\\d+)?)(ml|l)(?: \\+ (\\d+)/)?\", size)  # Buscar coincidencias con regex para valores con +\n",
    "    if match:\n",
    "        unit_size = float(match.group(1))  # Tamaño individual\n",
    "        if match.group(2) == 'l':  # Convertir litros a mililitros\n",
    "            unit_size *= 1000\n",
    "        additional_count = int(match.group(3)) if match.group(3) else 0  # Ítems adicionales\n",
    "        return {\"size_ml\": unit_size, \"pack_count\": 1 + additional_count}\n",
    "\n",
    "    #################################################################################################\n",
    "    # Manejar tamaños con número adicional separado por espacios, como \"750mL  3\"\n",
    "    #################################################################################################\n",
    "    match = re.match(r\"(\\d+(?:\\.\\d+)?)(ml|l)\\s+(\\d+)\", size)  # Buscar coincidencias con espacios adicionales\n",
    "    if match:\n",
    "        unit_size = float(match.group(1))  # Tamaño individual\n",
    "        if match.group(2) == 'l':  # Convertir litros a mililitros\n",
    "            unit_size *= 1000\n",
    "        pack_count = int(match.group(3))  # Número adicional\n",
    "        return {\"size_ml\": unit_size, \"pack_count\": pack_count}\n",
    "\n",
    "    #################################################################################################\n",
    "    # Manejar tamaños individuales, como \"750mL\" o \"162.5mL\"\n",
    "    #################################################################################################\n",
    "    match = re.match(r\"(\\d+(?:\\.\\d+)?)(ml|l)\", size)  # Busca tamaños individuales\n",
    "    if match:\n",
    "        unit_size = float(match.group(1))  # Tamaño individual\n",
    "        if match.group(2) == 'l':  # Convertir litros a mililitros\n",
    "            unit_size *= 1000\n",
    "        return {\"size_ml\": unit_size, \"pack_count\": 1}\n",
    "\n",
    "    #################################################################################################\n",
    "    # Retornar valores nulos si el tamaño no coincide con ningún patrón conocido\n",
    "    #################################################################################################\n",
    "    return {\"size_ml\": np.nan, \"pack_count\": np.nan}\n",
    "\n",
    "# Aplicar la función parse_size a la columna 'Size'\n",
    "size_data = purchasePrices['Size'].apply(parse_size)\n",
    "\n",
    "# Crear nuevas columnas en el DataFrame\n",
    "purchasePrices['size_ml'] = size_data.apply(lambda x: x['size_ml'])\n",
    "purchasePrices['pack_count'] = size_data.apply(lambda x: x['pack_count'])\n",
    "\n",
    "# Verificar las primeras filas para confirmar resultados\n",
    "print(\"Primeras filas del DataFrame después de procesar la columna 'Size':\")\n",
    "print(purchasePrices[['Size', 'size_ml', 'pack_count']].head(10))\n",
    "\n",
    "# Contar valores nulos para evaluar el éxito del procesamiento\n",
    "print(\"Valores nulos en las columnas derivadas:\")\n",
    "print(purchasePrices[['size_ml', 'pack_count']].isnull().sum())\n",
    "\n",
    "# Identificar valores problemáticos\n",
    "problematic_rows = purchasePrices[purchasePrices['size_ml'].isnull()]\n",
    "print(\"Valores problemáticos en la columna 'Size':\")\n",
    "print(problematic_rows['Size'].unique())\n"
   ]
  },
  {
   "cell_type": "code",
   "execution_count": 497,
   "metadata": {},
   "outputs": [
    {
     "name": "stdout",
     "output_type": "stream",
     "text": [
      "Valores únicos en la columna 'Size':\n",
      "<StringArray>\n",
      "[      '750ml',      '1000ml',      '1750ml',        '50ml',       '375ml',\n",
      "  '100ml 4 pk',   '50ml 5 pk',       '100ml',       '200ml',   '50ml 4 pk',\n",
      "   '50ml 3 pk',       '300ml',  '200ml 4 pk',     'unknown',  '750ml 2 pk',\n",
      "  '250ml 4 pk',      '1500ml',      '3000ml',      '5000ml',      '4000ml',\n",
      "  '187ml 4 pk',       '150ml',       '187ml',       '500ml',       '720ml',\n",
      "       '650ml',  '200ml 3 pk',  '187ml 3 pk',       '330ml',       '250ml',\n",
      "  '750ml + 3/',     '18000ml',       '180ml',  '750ml + 4/',      '6000ml',\n",
      " '1000ml 2 pk',  '750ml 12 p',  '750ml 6 pk',   '20ml 5 pk',          <NA>,\n",
      "  '375ml 2 pk',     '20000ml',  '50ml 12 pk',  '750ml 3 pk',  '375ml 3 pk',\n",
      "  '750ml + 1/',  '200ml 5 pk',     '162.5ml',       '400ml',      '1100ml',\n",
      "       '600ml',     '19500ml',       '560ml',      '3750ml',     '750ml 3',\n",
      "      '9000ml']\n",
      "Length: 56, dtype: string\n",
      "\n",
      "Valores únicos en la columna 'size_ml':\n",
      "[  750.   1000.   1750.     50.    375.    100.    200.    300.      nan\n",
      "   250.   1500.   3000.   5000.   4000.    187.    150.    500.    720.\n",
      "   650.    330.  18000.    180.   6000.     20.  20000.    162.5   400.\n",
      "  1100.    600.  19500.    560.   3750.   9000. ]\n",
      "\n",
      "Valores únicos en la columna 'pack_count':\n",
      "[ 1.  4.  5.  3. nan  2.  6. 12.]\n",
      "\n"
     ]
    }
   ],
   "source": [
    "# Mostrar los valores únicos para 'Size', 'size_ml', y 'pack_count'\n",
    "for column in ['Size', 'size_ml', 'pack_count']:\n",
    "    print(f\"Valores únicos en la columna '{column}':\")\n",
    "    print(purchasePrices[column].unique())\n",
    "    print()  \n"
   ]
  },
  {
   "cell_type": "code",
   "execution_count": 499,
   "metadata": {},
   "outputs": [
    {
     "name": "stdout",
     "output_type": "stream",
     "text": [
      "     Size  size_ml  pack_count  Total_size_ml\n",
      "0   750ml    750.0         1.0          750.0\n",
      "1   750ml    750.0         1.0          750.0\n",
      "2   750ml    750.0         1.0          750.0\n",
      "3   750ml    750.0         1.0          750.0\n",
      "4   750ml    750.0         1.0          750.0\n",
      "5   750ml    750.0         1.0          750.0\n",
      "6   750ml    750.0         1.0          750.0\n",
      "7  1000ml   1000.0         1.0         1000.0\n",
      "8  1000ml   1000.0         1.0         1000.0\n",
      "9   750ml    750.0         1.0          750.0\n"
     ]
    }
   ],
   "source": [
    "# Calcular el tamaño total del paquete\n",
    "purchasePrices['Total_size_ml'] = purchasePrices['size_ml'] * purchasePrices['pack_count']\n",
    "\n",
    "# Verificar los resultados\n",
    "print(purchasePrices[['Size', 'size_ml', 'pack_count', 'Total_size_ml']].head(10))\n"
   ]
  },
  {
   "cell_type": "code",
   "execution_count": 500,
   "metadata": {},
   "outputs": [
    {
     "name": "stdout",
     "output_type": "stream",
     "text": [
      "PurchasePrices Info:\n",
      "<class 'pandas.core.frame.DataFrame'>\n",
      "RangeIndex: 12261 entries, 0 to 12260\n",
      "Data columns (total 12 columns):\n",
      " #   Column          Non-Null Count  Dtype  \n",
      "---  ------          --------------  -----  \n",
      " 0   Brand           12261 non-null  Int64  \n",
      " 1   Description     12260 non-null  string \n",
      " 2   Price           12261 non-null  Float64\n",
      " 3   Size            12260 non-null  string \n",
      " 4   Volume          12256 non-null  float64\n",
      " 5   Classification  12261 non-null  Int64  \n",
      " 6   PurchasePrice   12261 non-null  Float64\n",
      " 7   VendorNumber    12261 non-null  Int64  \n",
      " 8   VendorName      12261 non-null  string \n",
      " 9   size_ml         12256 non-null  float64\n",
      " 10  pack_count      12256 non-null  float64\n",
      " 11  Total_size_ml   12256 non-null  float64\n",
      "dtypes: Float64(2), Int64(3), float64(4), string(3)\n",
      "memory usage: 1.2 MB\n",
      "None\n"
     ]
    }
   ],
   "source": [
    "print(\"PurchasePrices Info:\")\n",
    "print(purchasePrices.info())"
   ]
  },
  {
   "cell_type": "markdown",
   "metadata": {},
   "source": [
    "#### Elimino la columna Volume porque ya fue reemplazada por size_ml (primero me fijo si tienen los mismos valores)"
   ]
  },
  {
   "cell_type": "code",
   "execution_count": 501,
   "metadata": {},
   "outputs": [
    {
     "name": "stdout",
     "output_type": "stream",
     "text": [
      "Comparación entre size_ml y Volume:\n",
      "Iguales: 12256\n",
      "Diferentes o NaN: 5\n",
      "La columna 'Volume' fue eliminada porque es igual a 'size_ml', considerando NaN como iguales.\n",
      "<class 'pandas.core.frame.DataFrame'>\n",
      "RangeIndex: 12261 entries, 0 to 12260\n",
      "Data columns (total 11 columns):\n",
      " #   Column          Non-Null Count  Dtype  \n",
      "---  ------          --------------  -----  \n",
      " 0   Brand           12261 non-null  Int64  \n",
      " 1   Description     12260 non-null  string \n",
      " 2   Price           12261 non-null  Float64\n",
      " 3   Size            12260 non-null  string \n",
      " 4   Classification  12261 non-null  Int64  \n",
      " 5   PurchasePrice   12261 non-null  Float64\n",
      " 6   VendorNumber    12261 non-null  Int64  \n",
      " 7   VendorName      12261 non-null  string \n",
      " 8   size_ml         12256 non-null  float64\n",
      " 9   pack_count      12256 non-null  float64\n",
      " 10  Total_size_ml   12256 non-null  float64\n",
      "dtypes: Float64(2), Int64(3), float64(3), string(3)\n",
      "memory usage: 1.1 MB\n",
      "None\n"
     ]
    }
   ],
   "source": [
    "# Reemplazar valores \"Unknown\" por NaN \n",
    "purchasePrices['Volume'] = purchasePrices['Volume'].replace(\"Unknown\", np.nan)\n",
    "\n",
    "# Verificar si size_ml es igual a Volume (considerando valores nulos)\n",
    "comparison = purchasePrices['size_ml'] == purchasePrices['Volume']\n",
    "\n",
    "# Contar cuántos valores son iguales y diferentes\n",
    "print(\"Comparación entre size_ml y Volume:\")\n",
    "print(f\"Iguales: {comparison.sum()}\")\n",
    "print(f\"Diferentes o NaN: {len(comparison) - comparison.sum()}\")\n",
    "\n",
    "# Identificar diferencias reales (excluyendo NaN)\n",
    "different_rows = purchasePrices[~comparison & ~(purchasePrices['size_ml'].isnull() & purchasePrices['Volume'].isnull())]\n",
    "\n",
    "# Verificar si los valores diferentes son únicamente NaN\n",
    "nan_differences = purchasePrices[(purchasePrices['size_ml'].isnull()) & (purchasePrices['Volume'].isnull())]\n",
    "\n",
    "# Si todos los valores diferentes son NaN o no hay diferencias, eliminar la columna\n",
    "if len(different_rows) == 0:\n",
    "    purchasePrices.drop(columns=['Volume'], inplace=True)\n",
    "    print(\"La columna 'Volume' fue eliminada porque es igual a 'size_ml', considerando NaN como iguales.\")\n",
    "else:\n",
    "    print(\"La columna 'Volume' no fue eliminada porque contiene valores diferentes a 'size_ml' que no son NaN.\")\n",
    "\n",
    "# Verificar el resultado final\n",
    "print(purchasePrices.info())\n"
   ]
  },
  {
   "cell_type": "code",
   "execution_count": 502,
   "metadata": {},
   "outputs": [
    {
     "name": "stdout",
     "output_type": "stream",
     "text": [
      "Tipos de datos después de unificar formatos de float:\n",
      "Brand                      Int64\n",
      "Description       string[python]\n",
      "Price                    float64\n",
      "Size              string[python]\n",
      "Classification             Int64\n",
      "PurchasePrice            float64\n",
      "VendorNumber               Int64\n",
      "VendorName        string[python]\n",
      "size_ml                  float64\n",
      "pack_count               float64\n",
      "Total_size_ml            float64\n",
      "dtype: object\n"
     ]
    }
   ],
   "source": [
    "# Unificar todos los floats a un único formato (float64)\n",
    "float_columns = purchasePrices.select_dtypes(include=['Float64', 'float64']).columns\n",
    "purchasePrices[float_columns] = purchasePrices[float_columns].astype('float64')\n",
    "\n",
    "# Verificar que los cambios se aplicaron correctamente\n",
    "print(\"Tipos de datos después de unificar formatos de float:\")\n",
    "print(purchasePrices.dtypes)\n"
   ]
  },
  {
   "cell_type": "code",
   "execution_count": 503,
   "metadata": {},
   "outputs": [
    {
     "name": "stdout",
     "output_type": "stream",
     "text": [
      "Filas con valores NaN o nulos:\n",
      "       Brand                   Description  Price     Size  Classification  \\\n",
      "542     2993             angostura bitters   7.49  unknown               1   \n",
      "5921    9908      tito's copper mug 2 pack  21.01  unknown               1   \n",
      "7915    4202                          <NA>   0.00     <NA>               1   \n",
      "8795    8992                      group 92   1.99  unknown               1   \n",
      "10009  90590  overture champagne 2glass pk  19.95  unknown               2   \n",
      "\n",
      "       PurchasePrice  VendorNumber             VendorName  size_ml  \\\n",
      "542             5.39          5895  mizkan americas, inc.      NaN   \n",
      "5921           16.15          4425  martignetti companies      NaN   \n",
      "7915           11.19           480        bacardi usa inc      NaN   \n",
      "8795            1.43          1703   alisa carr beverages      NaN   \n",
      "10009          13.12          4425  martignetti companies      NaN   \n",
      "\n",
      "       pack_count  Total_size_ml  \n",
      "542           NaN            NaN  \n",
      "5921          NaN            NaN  \n",
      "7915          NaN            NaN  \n",
      "8795          NaN            NaN  \n",
      "10009         NaN            NaN  \n"
     ]
    }
   ],
   "source": [
    "# Filtrar las filas con valores NaN o nulos en cualquier columna\n",
    "nan_rows = purchasePrices[purchasePrices.isnull().any(axis=1)]\n",
    "\n",
    "# Mostrar las filas con valores NaN o nulos\n",
    "print(\"Filas con valores NaN o nulos:\")\n",
    "print(nan_rows)\n"
   ]
  },
  {
   "cell_type": "markdown",
   "metadata": {},
   "source": [
    "#### Elimino nulos porque son 5 filas"
   ]
  },
  {
   "cell_type": "code",
   "execution_count": 504,
   "metadata": {},
   "outputs": [
    {
     "name": "stdout",
     "output_type": "stream",
     "text": [
      "Filas con valores NaN o nulos:\n",
      "       Brand                   Description  Price     Size  Classification  \\\n",
      "542     2993             angostura bitters   7.49  unknown               1   \n",
      "5921    9908      tito's copper mug 2 pack  21.01  unknown               1   \n",
      "7915    4202                          <NA>   0.00     <NA>               1   \n",
      "8795    8992                      group 92   1.99  unknown               1   \n",
      "10009  90590  overture champagne 2glass pk  19.95  unknown               2   \n",
      "\n",
      "       PurchasePrice  VendorNumber             VendorName  size_ml  \\\n",
      "542             5.39          5895  mizkan americas, inc.      NaN   \n",
      "5921           16.15          4425  martignetti companies      NaN   \n",
      "7915           11.19           480        bacardi usa inc      NaN   \n",
      "8795            1.43          1703   alisa carr beverages      NaN   \n",
      "10009          13.12          4425  martignetti companies      NaN   \n",
      "\n",
      "       pack_count  Total_size_ml  \n",
      "542           NaN            NaN  \n",
      "5921          NaN            NaN  \n",
      "7915          NaN            NaN  \n",
      "8795          NaN            NaN  \n",
      "10009         NaN            NaN  \n",
      "DataFrame después de eliminar filas con valores NaN o nulos:\n",
      "       Brand                   Description  Price    Size  Classification  \\\n",
      "0         58   gekkeikan black & gold sake  12.99   750ml               1   \n",
      "1         62      herradura silver tequila  36.99   750ml               1   \n",
      "2         63    herradura reposado tequila  38.99   750ml               1   \n",
      "3         72          no. 3 london dry gin  34.99   750ml               1   \n",
      "4         75     three olives tomato vodka  14.99   750ml               1   \n",
      "...      ...                           ...    ...     ...             ...   \n",
      "12256  44917     ferreira 10-yr tawny port  24.99   750ml               2   \n",
      "12257  44944     sanford santa rita pnt nr  22.99   750ml               2   \n",
      "12258  45016  neal one lane bridg cab svgn  93.99   750ml               2   \n",
      "12259  46011       folonari pnt nr venezie  12.99  1500ml               2   \n",
      "12260  46964     calera viognier mt harlan  35.99   750ml               2   \n",
      "\n",
      "       PurchasePrice  VendorNumber                  VendorName  size_ml  \\\n",
      "0               9.28          8320     shaw ross int l imp ltd    750.0   \n",
      "1              28.67          1128           brown-forman corp    750.0   \n",
      "2              30.46          1128           brown-forman corp    750.0   \n",
      "3              26.11          9165  ultra beverage company llp    750.0   \n",
      "4              10.94          7245        proximo spirits inc.    750.0   \n",
      "...              ...           ...                         ...      ...   \n",
      "12256          16.55         90024              vinilandia usa    750.0   \n",
      "12257          14.93          4425       martignetti companies    750.0   \n",
      "12258          61.43         10754              perfecta wines    750.0   \n",
      "12259           8.90          9744    frederick wildman & sons   1500.0   \n",
      "12260          24.32         10754              perfecta wines    750.0   \n",
      "\n",
      "       pack_count  Total_size_ml  \n",
      "0             1.0          750.0  \n",
      "1             1.0          750.0  \n",
      "2             1.0          750.0  \n",
      "3             1.0          750.0  \n",
      "4             1.0          750.0  \n",
      "...           ...            ...  \n",
      "12256         1.0          750.0  \n",
      "12257         1.0          750.0  \n",
      "12258         1.0          750.0  \n",
      "12259         1.0         1500.0  \n",
      "12260         1.0          750.0  \n",
      "\n",
      "[12256 rows x 11 columns]\n"
     ]
    }
   ],
   "source": [
    "# Mostrar las filas con valores NaN o nulos\n",
    "nan_rows = purchasePrices[purchasePrices.isnull().any(axis=1)]\n",
    "print(\"Filas con valores NaN o nulos:\")\n",
    "print(nan_rows)\n",
    "\n",
    "# Eliminar las filas con valores NaN o nulos\n",
    "purchasePrices = purchasePrices.dropna()\n",
    "\n",
    "# Verificar el resultado\n",
    "print(\"DataFrame después de eliminar filas con valores NaN o nulos:\")\n",
    "print(purchasePrices)\n",
    "\n"
   ]
  },
  {
   "cell_type": "markdown",
   "metadata": {},
   "source": [
    "#### Analisis de duplicados"
   ]
  },
  {
   "cell_type": "code",
   "execution_count": 505,
   "metadata": {},
   "outputs": [
    {
     "name": "stdout",
     "output_type": "stream",
     "text": [
      "\n",
      "¿Hay duplicados en los datos?\n",
      "False\n",
      "\n",
      "Datos después de eliminar duplicados:\n"
     ]
    },
    {
     "data": {
      "text/html": [
       "<div>\n",
       "<style scoped>\n",
       "    .dataframe tbody tr th:only-of-type {\n",
       "        vertical-align: middle;\n",
       "    }\n",
       "\n",
       "    .dataframe tbody tr th {\n",
       "        vertical-align: top;\n",
       "    }\n",
       "\n",
       "    .dataframe thead th {\n",
       "        text-align: right;\n",
       "    }\n",
       "</style>\n",
       "<table border=\"1\" class=\"dataframe\">\n",
       "  <thead>\n",
       "    <tr style=\"text-align: right;\">\n",
       "      <th></th>\n",
       "      <th>Brand</th>\n",
       "      <th>Description</th>\n",
       "      <th>Price</th>\n",
       "      <th>Size</th>\n",
       "      <th>Classification</th>\n",
       "      <th>PurchasePrice</th>\n",
       "      <th>VendorNumber</th>\n",
       "      <th>VendorName</th>\n",
       "      <th>size_ml</th>\n",
       "      <th>pack_count</th>\n",
       "      <th>Total_size_ml</th>\n",
       "    </tr>\n",
       "  </thead>\n",
       "  <tbody>\n",
       "    <tr>\n",
       "      <th>0</th>\n",
       "      <td>58</td>\n",
       "      <td>gekkeikan black &amp; gold sake</td>\n",
       "      <td>12.99</td>\n",
       "      <td>750ml</td>\n",
       "      <td>1</td>\n",
       "      <td>9.28</td>\n",
       "      <td>8320</td>\n",
       "      <td>shaw ross int l imp ltd</td>\n",
       "      <td>750.0</td>\n",
       "      <td>1.0</td>\n",
       "      <td>750.0</td>\n",
       "    </tr>\n",
       "    <tr>\n",
       "      <th>1</th>\n",
       "      <td>62</td>\n",
       "      <td>herradura silver tequila</td>\n",
       "      <td>36.99</td>\n",
       "      <td>750ml</td>\n",
       "      <td>1</td>\n",
       "      <td>28.67</td>\n",
       "      <td>1128</td>\n",
       "      <td>brown-forman corp</td>\n",
       "      <td>750.0</td>\n",
       "      <td>1.0</td>\n",
       "      <td>750.0</td>\n",
       "    </tr>\n",
       "    <tr>\n",
       "      <th>2</th>\n",
       "      <td>63</td>\n",
       "      <td>herradura reposado tequila</td>\n",
       "      <td>38.99</td>\n",
       "      <td>750ml</td>\n",
       "      <td>1</td>\n",
       "      <td>30.46</td>\n",
       "      <td>1128</td>\n",
       "      <td>brown-forman corp</td>\n",
       "      <td>750.0</td>\n",
       "      <td>1.0</td>\n",
       "      <td>750.0</td>\n",
       "    </tr>\n",
       "    <tr>\n",
       "      <th>3</th>\n",
       "      <td>72</td>\n",
       "      <td>no. 3 london dry gin</td>\n",
       "      <td>34.99</td>\n",
       "      <td>750ml</td>\n",
       "      <td>1</td>\n",
       "      <td>26.11</td>\n",
       "      <td>9165</td>\n",
       "      <td>ultra beverage company llp</td>\n",
       "      <td>750.0</td>\n",
       "      <td>1.0</td>\n",
       "      <td>750.0</td>\n",
       "    </tr>\n",
       "    <tr>\n",
       "      <th>4</th>\n",
       "      <td>75</td>\n",
       "      <td>three olives tomato vodka</td>\n",
       "      <td>14.99</td>\n",
       "      <td>750ml</td>\n",
       "      <td>1</td>\n",
       "      <td>10.94</td>\n",
       "      <td>7245</td>\n",
       "      <td>proximo spirits inc.</td>\n",
       "      <td>750.0</td>\n",
       "      <td>1.0</td>\n",
       "      <td>750.0</td>\n",
       "    </tr>\n",
       "  </tbody>\n",
       "</table>\n",
       "</div>"
      ],
      "text/plain": [
       "   Brand                  Description  Price   Size  Classification  \\\n",
       "0     58  gekkeikan black & gold sake  12.99  750ml               1   \n",
       "1     62     herradura silver tequila  36.99  750ml               1   \n",
       "2     63   herradura reposado tequila  38.99  750ml               1   \n",
       "3     72         no. 3 london dry gin  34.99  750ml               1   \n",
       "4     75    three olives tomato vodka  14.99  750ml               1   \n",
       "\n",
       "   PurchasePrice  VendorNumber                  VendorName  size_ml  \\\n",
       "0           9.28          8320     shaw ross int l imp ltd    750.0   \n",
       "1          28.67          1128           brown-forman corp    750.0   \n",
       "2          30.46          1128           brown-forman corp    750.0   \n",
       "3          26.11          9165  ultra beverage company llp    750.0   \n",
       "4          10.94          7245        proximo spirits inc.    750.0   \n",
       "\n",
       "   pack_count  Total_size_ml  \n",
       "0         1.0          750.0  \n",
       "1         1.0          750.0  \n",
       "2         1.0          750.0  \n",
       "3         1.0          750.0  \n",
       "4         1.0          750.0  "
      ]
     },
     "metadata": {},
     "output_type": "display_data"
    }
   ],
   "source": [
    "# Verificar si hay duplicados\n",
    "print(\"\\n¿Hay duplicados en los datos?\")\n",
    "print(purchasePrices.duplicated().any())\n",
    "\n",
    "# Mostrar filas duplicadas, si existen\n",
    "if purchasePrices.duplicated().any():\n",
    "    print(\"\\nFilas duplicadas detectadas:\")\n",
    "    display(purchasePrices[purchasePrices.duplicated()])\n",
    "\n",
    "# Eliminar duplicados\n",
    "data = purchasePrices.drop_duplicates()\n",
    "\n",
    "# Verificar nuevamente\n",
    "print(\"\\nDatos después de eliminar duplicados:\")\n",
    "display(purchasePrices.head())"
   ]
  },
  {
   "cell_type": "markdown",
   "metadata": {},
   "source": [
    "#### Crear clave primaria supplier_id "
   ]
  },
  {
   "cell_type": "code",
   "execution_count": 506,
   "metadata": {},
   "outputs": [
    {
     "name": "stdout",
     "output_type": "stream",
     "text": [
      "No se encontraron duplicados en la combinación de 'VendorNumber' y 'Brand'.\n"
     ]
    }
   ],
   "source": [
    "# Verificar unicidad en la combinación de VendorNumber y Brand\n",
    "if purchasePrices.duplicated(subset=['VendorNumber', 'Brand']).any():\n",
    "    print(\"Advertencia: Existen duplicados en la combinación de 'VendorNumber' y 'Brand'.\")\n",
    "else:\n",
    "    print(\"No se encontraron duplicados en la combinación de 'VendorNumber' y 'Brand'.\")\n",
    "\n",
    "# Crear la columna 'SupplierID' como un índice único basado en la combinación de VendorNumber y Brand\n",
    "purchasePrices['SupplierID'] = (\n",
    "    purchasePrices.groupby(['VendorNumber', 'Brand']).ngroup() + 1\n",
    ")\n",
    "\n",
    "# Establecer 'SupplierID' como índice\n",
    "purchasePrices.set_index('SupplierID', inplace=True)\n",
    "\n"
   ]
  },
  {
   "cell_type": "code",
   "execution_count": 510,
   "metadata": {},
   "outputs": [
    {
     "name": "stdout",
     "output_type": "stream",
     "text": [
      "Primeras filas del DataFrame:\n",
      "            Brand                  Description  Price   Size  Classification  \\\n",
      "SupplierID                                                                     \n",
      "6868           58  gekkeikan black & gold sake  12.99  750ml               1   \n",
      "701            62     herradura silver tequila  36.99  750ml               1   \n",
      "702            63   herradura reposado tequila  38.99  750ml               1   \n",
      "7354           72         no. 3 london dry gin  34.99  750ml               1   \n",
      "6371           75    three olives tomato vodka  14.99  750ml               1   \n",
      "\n",
      "            PurchasePrice  VendorNumber                  VendorName  size_ml  \\\n",
      "SupplierID                                                                     \n",
      "6868                 9.28          8320     shaw ross int l imp ltd    750.0   \n",
      "701                 28.67          1128           brown-forman corp    750.0   \n",
      "702                 30.46          1128           brown-forman corp    750.0   \n",
      "7354                26.11          9165  ultra beverage company llp    750.0   \n",
      "6371                10.94          7245        proximo spirits inc.    750.0   \n",
      "\n",
      "            pack_count  Total_size_ml  \n",
      "SupplierID                             \n",
      "6868               1.0          750.0  \n",
      "701                1.0          750.0  \n",
      "702                1.0          750.0  \n",
      "7354               1.0          750.0  \n",
      "6371               1.0          750.0  \n",
      "\n",
      "Tipos de datos del DataFrame:\n",
      "Brand                      Int64\n",
      "Description       string[python]\n",
      "Price                    float64\n",
      "Size              string[python]\n",
      "Classification             Int64\n",
      "PurchasePrice            float64\n",
      "VendorNumber               Int64\n",
      "VendorName        string[python]\n",
      "size_ml                  float64\n",
      "pack_count               float64\n",
      "Total_size_ml            float64\n",
      "dtype: object\n"
     ]
    }
   ],
   "source": [
    "# Imprimir las primeras filas del DataFrame\n",
    "print(\"Primeras filas del DataFrame:\")\n",
    "print(purchasePrices.head())\n",
    "\n",
    "# Imprimir los tipos de datos del DataFrame\n",
    "print(\"\\nTipos de datos del DataFrame:\")\n",
    "print(purchasePrices.dtypes)\n",
    "\n",
    "# Guardar el DataFrame en un archivo CSV manteniendo 'SupplierID' como índice\n",
    "purchasePrices.to_csv('purchasePrices.csv', index=True)\n",
    "\n"
   ]
  },
  {
   "cell_type": "markdown",
   "metadata": {},
   "source": [
    "### Creo tabla de vendedores"
   ]
  },
  {
   "cell_type": "code",
   "execution_count": 511,
   "metadata": {},
   "outputs": [
    {
     "name": "stdout",
     "output_type": "stream",
     "text": [
      "La tabla de vendedores se ha guardado como 'vendors.csv'.\n"
     ]
    }
   ],
   "source": [
    "# Crear una tabla con solo las columnas VendorNumber y VendorName, eliminando duplicados\n",
    "vendors_table = purchasePrices[['VendorNumber', 'VendorName']].drop_duplicates(subset=['VendorNumber', 'VendorName']).set_index('VendorNumber')\n",
    "\n",
    "# Guardar la tabla en un archivo CSV con VendorNumber como índice\n",
    "vendors_table.to_csv('vendors.csv')\n",
    "\n",
    "print(\"La tabla de vendedores se ha guardado como 'vendors.csv'.\")\n"
   ]
  },
  {
   "cell_type": "markdown",
   "metadata": {},
   "source": [
    "#### Creo tabla productos"
   ]
  },
  {
   "cell_type": "code",
   "execution_count": 512,
   "metadata": {},
   "outputs": [
    {
     "name": "stdout",
     "output_type": "stream",
     "text": [
      "Primeras filas del DataFrame después de procesar la columna 'Size':\n",
      "     Size  size_ml  pack_count\n",
      "0   750ml    750.0           1\n",
      "1   750ml    750.0           1\n",
      "2   750ml    750.0           1\n",
      "3   750ml    750.0           1\n",
      "4   750ml    750.0           1\n",
      "5   750ml    750.0           1\n",
      "6   750ml    750.0           1\n",
      "7  1000ml   1000.0           1\n",
      "8  1000ml   1000.0           1\n",
      "9   750ml    750.0           1\n",
      "Valores nulos en las columnas derivadas:\n",
      "size_ml       0\n",
      "pack_count    0\n",
      "dtype: int64\n",
      "Valores problemáticos en la columna 'Size':\n",
      "<StringArray>\n",
      "[]\n",
      "Length: 0, dtype: string\n",
      "La tabla 'Products' con ProductID imaginario se ha creado y guardado como 'products.csv'.\n"
     ]
    }
   ],
   "source": [
    "# Seleccionar columnas relevantes para la tabla Products\n",
    "products_table = purchasePrices[['Brand', 'Description', 'Size', 'Classification']].drop_duplicates().reset_index(drop=True)\n",
    "\n",
    "# Generar un ProductID imaginario\n",
    "products_table['ProductID'] = range(1, len(products_table) + 1)\n",
    "\n",
    "# Reorganizar las columnas para colocar ProductID al inicio\n",
    "products_table = products_table[['ProductID', 'Brand', 'Description', 'Size', 'Classification']]\n",
    "\n",
    "# Función para procesar la columna 'Size'\n",
    "def parse_size(size):\n",
    "    if pd.isnull(size):  # Verificar si el valor es nulo\n",
    "        return {\"size_ml\": np.nan, \"pack_count\": np.nan}  # Retorna valores nulos si el campo es vacío\n",
    "\n",
    "    size = size.strip().lower()  # Elimina espacios al principio/final y convierte a minúsculas\n",
    "\n",
    "    # Manejar paquetes, como \"100mL 4 Pk\"\n",
    "    match = re.match(r\"(\\d+(?:\\.\\d+)?)(ml|l) (\\d+) pk\", size)\n",
    "    if match:\n",
    "        unit_size = float(match.group(1))  # Tamaño individual\n",
    "        if match.group(2) == 'l':  # Convertir litros a mililitros\n",
    "            unit_size *= 1000\n",
    "        pack_count = int(match.group(3))  # Número de botellas en el paquete\n",
    "        return {\"size_ml\": unit_size, \"pack_count\": pack_count}\n",
    "\n",
    "    # Manejar tamaños con adicionales, como \"750mL + 3/\"\n",
    "    match = re.match(r\"(\\d+(?:\\.\\d+)?)(ml|l)(?: \\+ (\\d+)/)?\", size)\n",
    "    if match:\n",
    "        unit_size = float(match.group(1))  # Tamaño individual\n",
    "        if match.group(2) == 'l':  # Convertir litros a mililitros\n",
    "            unit_size *= 1000\n",
    "        additional_count = int(match.group(3)) if match.group(3) else 0  # Ítems adicionales\n",
    "        return {\"size_ml\": unit_size, \"pack_count\": 1 + additional_count}\n",
    "\n",
    "    # Manejar tamaños con número adicional separado por espacios, como \"750mL  3\"\n",
    "    match = re.match(r\"(\\d+(?:\\.\\d+)?)(ml|l)\\s+(\\d+)\", size)\n",
    "    if match:\n",
    "        unit_size = float(match.group(1))  # Tamaño individual\n",
    "        if match.group(2) == 'l':  # Convertir litros a mililitros\n",
    "            unit_size *= 1000\n",
    "        pack_count = int(match.group(3))  # Número adicional\n",
    "        return {\"size_ml\": unit_size, \"pack_count\": pack_count}\n",
    "\n",
    "    # Manejar tamaños individuales, como \"750mL\" o \"162.5mL\"\n",
    "    match = re.match(r\"(\\d+(?:\\.\\d+)?)(ml|l)\", size)\n",
    "    if match:\n",
    "        unit_size = float(match.group(1))  # Tamaño individual\n",
    "        if match.group(2) == 'l':  # Convertir litros a mililitros\n",
    "            unit_size *= 1000\n",
    "        return {\"size_ml\": unit_size, \"pack_count\": 1}\n",
    "\n",
    "    # Manejar otros formatos como onzas u otros\n",
    "    match = re.match(r\"(\\d+(?:\\.\\d+)?)\\s?(oz|gal)\", size)\n",
    "    if match:\n",
    "        unit_size = float(match.group(1))\n",
    "        if match.group(2) == 'oz':  # Convertir onzas a mililitros\n",
    "            unit_size *= 29.5735\n",
    "        elif match.group(2) == 'gal':  # Convertir galones a mililitros\n",
    "            unit_size *= 3785.41\n",
    "        return {\"size_ml\": unit_size, \"pack_count\": 1}\n",
    "\n",
    "    # Retornar valores nulos si el tamaño no coincide con ningún patrón conocido\n",
    "    return {\"size_ml\": np.nan, \"pack_count\": np.nan}\n",
    "\n",
    "# Aplicar la función parse_size a la columna 'Size'\n",
    "size_data = products_table['Size'].apply(parse_size)\n",
    "\n",
    "# Crear nuevas columnas en el DataFrame\n",
    "products_table['size_ml'] = size_data.apply(lambda x: x['size_ml'])\n",
    "products_table['pack_count'] = size_data.apply(lambda x: x['pack_count'])\n",
    "\n",
    "# Verificar las primeras filas para confirmar resultados\n",
    "print(\"Primeras filas del DataFrame después de procesar la columna 'Size':\")\n",
    "print(products_table[['Size', 'size_ml', 'pack_count']].head(10))\n",
    "\n",
    "# Contar valores nulos para evaluar el éxito del procesamiento\n",
    "print(\"Valores nulos en las columnas derivadas:\")\n",
    "print(products_table[['size_ml', 'pack_count']].isnull().sum())\n",
    "\n",
    "# Identificar valores problemáticos\n",
    "problematic_rows = products_table[products_table['size_ml'].isnull()]\n",
    "print(\"Valores problemáticos en la columna 'Size':\")\n",
    "print(problematic_rows['Size'].unique())\n",
    "\n",
    "# Guardar la tabla Products en un archivo CSV\n",
    "products_table.to_csv('products.csv', index=False)\n",
    "\n",
    "print(\"La tabla 'Products' con ProductID imaginario se ha creado y guardado como 'products.csv'.\")\n"
   ]
  },
  {
   "cell_type": "markdown",
   "metadata": {},
   "source": [
    "### Analisis de InvoicePurchases"
   ]
  },
  {
   "cell_type": "code",
   "execution_count": 515,
   "metadata": {},
   "outputs": [
    {
     "data": {
      "text/html": [
       "<div>\n",
       "<style scoped>\n",
       "    .dataframe tbody tr th:only-of-type {\n",
       "        vertical-align: middle;\n",
       "    }\n",
       "\n",
       "    .dataframe tbody tr th {\n",
       "        vertical-align: top;\n",
       "    }\n",
       "\n",
       "    .dataframe thead th {\n",
       "        text-align: right;\n",
       "    }\n",
       "</style>\n",
       "<table border=\"1\" class=\"dataframe\">\n",
       "  <thead>\n",
       "    <tr style=\"text-align: right;\">\n",
       "      <th></th>\n",
       "      <th>VendorNumber</th>\n",
       "      <th>VendorName</th>\n",
       "      <th>InvoiceDate</th>\n",
       "      <th>PONumber</th>\n",
       "      <th>PODate</th>\n",
       "      <th>PayDate</th>\n",
       "      <th>Quantity</th>\n",
       "      <th>Dollars</th>\n",
       "      <th>Freight</th>\n",
       "      <th>Approval</th>\n",
       "    </tr>\n",
       "  </thead>\n",
       "  <tbody>\n",
       "    <tr>\n",
       "      <th>0</th>\n",
       "      <td>105</td>\n",
       "      <td>ALTAMAR BRANDS LLC</td>\n",
       "      <td>2016-01-04</td>\n",
       "      <td>8124</td>\n",
       "      <td>2015-12-21</td>\n",
       "      <td>2016-02-16</td>\n",
       "      <td>6</td>\n",
       "      <td>214.26</td>\n",
       "      <td>3.47</td>\n",
       "      <td>NaN</td>\n",
       "    </tr>\n",
       "    <tr>\n",
       "      <th>1</th>\n",
       "      <td>4466</td>\n",
       "      <td>AMERICAN VINTAGE BEVERAGE</td>\n",
       "      <td>2016-01-07</td>\n",
       "      <td>8137</td>\n",
       "      <td>2015-12-22</td>\n",
       "      <td>2016-02-21</td>\n",
       "      <td>15</td>\n",
       "      <td>140.55</td>\n",
       "      <td>8.57</td>\n",
       "      <td>NaN</td>\n",
       "    </tr>\n",
       "    <tr>\n",
       "      <th>2</th>\n",
       "      <td>388</td>\n",
       "      <td>ATLANTIC IMPORTING COMPANY</td>\n",
       "      <td>2016-01-09</td>\n",
       "      <td>8169</td>\n",
       "      <td>2015-12-24</td>\n",
       "      <td>2016-02-16</td>\n",
       "      <td>5</td>\n",
       "      <td>106.60</td>\n",
       "      <td>4.61</td>\n",
       "      <td>NaN</td>\n",
       "    </tr>\n",
       "    <tr>\n",
       "      <th>3</th>\n",
       "      <td>480</td>\n",
       "      <td>BACARDI USA INC</td>\n",
       "      <td>2016-01-12</td>\n",
       "      <td>8106</td>\n",
       "      <td>2015-12-20</td>\n",
       "      <td>2016-02-05</td>\n",
       "      <td>10100</td>\n",
       "      <td>137483.78</td>\n",
       "      <td>2935.20</td>\n",
       "      <td>NaN</td>\n",
       "    </tr>\n",
       "    <tr>\n",
       "      <th>4</th>\n",
       "      <td>516</td>\n",
       "      <td>BANFI PRODUCTS CORP</td>\n",
       "      <td>2016-01-07</td>\n",
       "      <td>8170</td>\n",
       "      <td>2015-12-24</td>\n",
       "      <td>2016-02-12</td>\n",
       "      <td>1935</td>\n",
       "      <td>15527.25</td>\n",
       "      <td>429.20</td>\n",
       "      <td>NaN</td>\n",
       "    </tr>\n",
       "  </tbody>\n",
       "</table>\n",
       "</div>"
      ],
      "text/plain": [
       "   VendorNumber                   VendorName InvoiceDate  PONumber  \\\n",
       "0           105  ALTAMAR BRANDS LLC           2016-01-04      8124   \n",
       "1          4466  AMERICAN VINTAGE BEVERAGE    2016-01-07      8137   \n",
       "2           388  ATLANTIC IMPORTING COMPANY   2016-01-09      8169   \n",
       "3           480  BACARDI USA INC              2016-01-12      8106   \n",
       "4           516  BANFI PRODUCTS CORP          2016-01-07      8170   \n",
       "\n",
       "       PODate     PayDate  Quantity    Dollars  Freight Approval  \n",
       "0  2015-12-21  2016-02-16         6     214.26     3.47      NaN  \n",
       "1  2015-12-22  2016-02-21        15     140.55     8.57      NaN  \n",
       "2  2015-12-24  2016-02-16         5     106.60     4.61      NaN  \n",
       "3  2015-12-20  2016-02-05     10100  137483.78  2935.20      NaN  \n",
       "4  2015-12-24  2016-02-12      1935   15527.25   429.20      NaN  "
      ]
     },
     "execution_count": 515,
     "metadata": {},
     "output_type": "execute_result"
    }
   ],
   "source": [
    "invoice_purchases = pd.read_csv('InvoicePurchases12312016.csv')\n",
    "invoice_purchases.head()"
   ]
  },
  {
   "cell_type": "code",
   "execution_count": 516,
   "metadata": {},
   "outputs": [
    {
     "name": "stdout",
     "output_type": "stream",
     "text": [
      "<class 'pandas.core.frame.DataFrame'>\n",
      "RangeIndex: 5543 entries, 0 to 5542\n",
      "Data columns (total 10 columns):\n",
      " #   Column        Non-Null Count  Dtype  \n",
      "---  ------        --------------  -----  \n",
      " 0   VendorNumber  5543 non-null   int64  \n",
      " 1   VendorName    5543 non-null   object \n",
      " 2   InvoiceDate   5543 non-null   object \n",
      " 3   PONumber      5543 non-null   int64  \n",
      " 4   PODate        5543 non-null   object \n",
      " 5   PayDate       5543 non-null   object \n",
      " 6   Quantity      5543 non-null   int64  \n",
      " 7   Dollars       5543 non-null   float64\n",
      " 8   Freight       5543 non-null   float64\n",
      " 9   Approval      374 non-null    object \n",
      "dtypes: float64(2), int64(3), object(5)\n",
      "memory usage: 433.2+ KB\n"
     ]
    }
   ],
   "source": [
    "# Revisar los tipos de datos para cada tabla\n",
    "invoice_purchases.info()"
   ]
  },
  {
   "cell_type": "markdown",
   "metadata": {},
   "source": [
    "#### que tiene la columna approval?"
   ]
  },
  {
   "cell_type": "code",
   "execution_count": 517,
   "metadata": {},
   "outputs": [
    {
     "data": {
      "text/plain": [
       "array([nan, 'Frank Delahunt'], dtype=object)"
      ]
     },
     "execution_count": 517,
     "metadata": {},
     "output_type": "execute_result"
    }
   ],
   "source": [
    "invoice_purchases['Approval'].unique()"
   ]
  },
  {
   "cell_type": "markdown",
   "metadata": {},
   "source": [
    "#### La elimino porque hay un solo nombre"
   ]
  },
  {
   "cell_type": "code",
   "execution_count": 518,
   "metadata": {},
   "outputs": [],
   "source": [
    "invoice_purchases = invoice_purchases.drop(columns=['Approval'])"
   ]
  },
  {
   "cell_type": "code",
   "execution_count": 519,
   "metadata": {},
   "outputs": [
    {
     "name": "stdout",
     "output_type": "stream",
     "text": [
      "<class 'pandas.core.frame.DataFrame'>\n",
      "RangeIndex: 5543 entries, 0 to 5542\n",
      "Data columns (total 9 columns):\n",
      " #   Column        Non-Null Count  Dtype         \n",
      "---  ------        --------------  -----         \n",
      " 0   VendorNumber  5543 non-null   int64         \n",
      " 1   VendorName    5543 non-null   string        \n",
      " 2   InvoiceDate   5543 non-null   datetime64[ns]\n",
      " 3   PONumber      5543 non-null   int64         \n",
      " 4   PODate        5543 non-null   datetime64[ns]\n",
      " 5   PayDate       5543 non-null   datetime64[ns]\n",
      " 6   Quantity      5543 non-null   int64         \n",
      " 7   Dollars       5543 non-null   float64       \n",
      " 8   Freight       5543 non-null   float64       \n",
      "dtypes: datetime64[ns](3), float64(2), int64(3), string(1)\n",
      "memory usage: 389.9 KB\n",
      "None\n"
     ]
    }
   ],
   "source": [
    "# Convertir columnas de tipo object a string\n",
    "for column in invoice_purchases.select_dtypes(include=['object']).columns:\n",
    "    invoice_purchases[column] = invoice_purchases[column].astype('string')\n",
    "\n",
    "# Convertir columnas a tipos de datos apropiados\n",
    "invoice_purchases['VendorNumber'] = invoice_purchases['VendorNumber'].astype('int64')\n",
    "invoice_purchases['PONumber'] = invoice_purchases['PONumber'].astype('int64')\n",
    "invoice_purchases['Quantity'] = invoice_purchases['Quantity'].astype('int64')\n",
    "invoice_purchases['Dollars'] = invoice_purchases['Dollars'].astype('float64')\n",
    "invoice_purchases['Freight'] = invoice_purchases['Freight'].astype('float64')\n",
    "\n",
    "# Convertir columnas de fecha a datetime\n",
    "invoice_purchases['InvoiceDate'] = pd.to_datetime(invoice_purchases['InvoiceDate'], errors='coerce')\n",
    "invoice_purchases['PODate'] = pd.to_datetime(invoice_purchases['PODate'], errors='coerce')\n",
    "invoice_purchases['PayDate'] = pd.to_datetime(invoice_purchases['PayDate'], errors='coerce')\n",
    "\n",
    "# Verificar cambios\n",
    "print(invoice_purchases.info())\n"
   ]
  },
  {
   "cell_type": "code",
   "execution_count": 520,
   "metadata": {},
   "outputs": [
    {
     "data": {
      "text/html": [
       "<div>\n",
       "<style scoped>\n",
       "    .dataframe tbody tr th:only-of-type {\n",
       "        vertical-align: middle;\n",
       "    }\n",
       "\n",
       "    .dataframe tbody tr th {\n",
       "        vertical-align: top;\n",
       "    }\n",
       "\n",
       "    .dataframe thead th {\n",
       "        text-align: right;\n",
       "    }\n",
       "</style>\n",
       "<table border=\"1\" class=\"dataframe\">\n",
       "  <thead>\n",
       "    <tr style=\"text-align: right;\">\n",
       "      <th></th>\n",
       "      <th>VendorNumber</th>\n",
       "      <th>VendorName</th>\n",
       "      <th>InvoiceDate</th>\n",
       "      <th>PONumber</th>\n",
       "      <th>PODate</th>\n",
       "      <th>PayDate</th>\n",
       "      <th>Quantity</th>\n",
       "      <th>Dollars</th>\n",
       "      <th>Freight</th>\n",
       "    </tr>\n",
       "  </thead>\n",
       "  <tbody>\n",
       "    <tr>\n",
       "      <th>0</th>\n",
       "      <td>105</td>\n",
       "      <td>ALTAMAR BRANDS LLC</td>\n",
       "      <td>2016-01-04</td>\n",
       "      <td>8124</td>\n",
       "      <td>2015-12-21</td>\n",
       "      <td>2016-02-16</td>\n",
       "      <td>6</td>\n",
       "      <td>214.26</td>\n",
       "      <td>3.47</td>\n",
       "    </tr>\n",
       "    <tr>\n",
       "      <th>1</th>\n",
       "      <td>4466</td>\n",
       "      <td>AMERICAN VINTAGE BEVERAGE</td>\n",
       "      <td>2016-01-07</td>\n",
       "      <td>8137</td>\n",
       "      <td>2015-12-22</td>\n",
       "      <td>2016-02-21</td>\n",
       "      <td>15</td>\n",
       "      <td>140.55</td>\n",
       "      <td>8.57</td>\n",
       "    </tr>\n",
       "    <tr>\n",
       "      <th>2</th>\n",
       "      <td>388</td>\n",
       "      <td>ATLANTIC IMPORTING COMPANY</td>\n",
       "      <td>2016-01-09</td>\n",
       "      <td>8169</td>\n",
       "      <td>2015-12-24</td>\n",
       "      <td>2016-02-16</td>\n",
       "      <td>5</td>\n",
       "      <td>106.60</td>\n",
       "      <td>4.61</td>\n",
       "    </tr>\n",
       "    <tr>\n",
       "      <th>3</th>\n",
       "      <td>480</td>\n",
       "      <td>BACARDI USA INC</td>\n",
       "      <td>2016-01-12</td>\n",
       "      <td>8106</td>\n",
       "      <td>2015-12-20</td>\n",
       "      <td>2016-02-05</td>\n",
       "      <td>10100</td>\n",
       "      <td>137483.78</td>\n",
       "      <td>2935.20</td>\n",
       "    </tr>\n",
       "    <tr>\n",
       "      <th>4</th>\n",
       "      <td>516</td>\n",
       "      <td>BANFI PRODUCTS CORP</td>\n",
       "      <td>2016-01-07</td>\n",
       "      <td>8170</td>\n",
       "      <td>2015-12-24</td>\n",
       "      <td>2016-02-12</td>\n",
       "      <td>1935</td>\n",
       "      <td>15527.25</td>\n",
       "      <td>429.20</td>\n",
       "    </tr>\n",
       "  </tbody>\n",
       "</table>\n",
       "</div>"
      ],
      "text/plain": [
       "   VendorNumber                   VendorName InvoiceDate  PONumber     PODate  \\\n",
       "0           105  ALTAMAR BRANDS LLC           2016-01-04      8124 2015-12-21   \n",
       "1          4466  AMERICAN VINTAGE BEVERAGE    2016-01-07      8137 2015-12-22   \n",
       "2           388  ATLANTIC IMPORTING COMPANY   2016-01-09      8169 2015-12-24   \n",
       "3           480  BACARDI USA INC              2016-01-12      8106 2015-12-20   \n",
       "4           516  BANFI PRODUCTS CORP          2016-01-07      8170 2015-12-24   \n",
       "\n",
       "     PayDate  Quantity    Dollars  Freight  \n",
       "0 2016-02-16         6     214.26     3.47  \n",
       "1 2016-02-21        15     140.55     8.57  \n",
       "2 2016-02-16         5     106.60     4.61  \n",
       "3 2016-02-05     10100  137483.78  2935.20  \n",
       "4 2016-02-12      1935   15527.25   429.20  "
      ]
     },
     "execution_count": 520,
     "metadata": {},
     "output_type": "execute_result"
    }
   ],
   "source": [
    "invoice_purchases.head()"
   ]
  },
  {
   "cell_type": "markdown",
   "metadata": {},
   "source": [
    "#### Busco nulos"
   ]
  },
  {
   "cell_type": "code",
   "execution_count": 521,
   "metadata": {},
   "outputs": [
    {
     "data": {
      "text/plain": [
       "VendorNumber    0\n",
       "VendorName      0\n",
       "InvoiceDate     0\n",
       "PONumber        0\n",
       "PODate          0\n",
       "PayDate         0\n",
       "Quantity        0\n",
       "Dollars         0\n",
       "Freight         0\n",
       "dtype: int64"
      ]
     },
     "execution_count": 521,
     "metadata": {},
     "output_type": "execute_result"
    }
   ],
   "source": [
    "invoice_purchases.isnull().sum()"
   ]
  },
  {
   "cell_type": "markdown",
   "metadata": {},
   "source": [
    "#### Analisis de valores duplicaods"
   ]
  },
  {
   "cell_type": "code",
   "execution_count": 522,
   "metadata": {},
   "outputs": [
    {
     "name": "stdout",
     "output_type": "stream",
     "text": [
      "0\n"
     ]
    }
   ],
   "source": [
    "duplicates = invoice_purchases.duplicated()\n",
    "print(duplicates.sum())\n"
   ]
  },
  {
   "cell_type": "markdown",
   "metadata": {},
   "source": [
    "#### busqueda de valores invalidos o fuera de rando"
   ]
  },
  {
   "cell_type": "code",
   "execution_count": 523,
   "metadata": {},
   "outputs": [
    {
     "name": "stdout",
     "output_type": "stream",
     "text": [
      "Empty DataFrame\n",
      "Columns: [VendorNumber, VendorName, InvoiceDate, PONumber, PODate, PayDate, Quantity, Dollars, Freight]\n",
      "Index: []\n",
      "Empty DataFrame\n",
      "Columns: [VendorNumber, VendorName, InvoiceDate, PONumber, PODate, PayDate, Quantity, Dollars, Freight]\n",
      "Index: []\n"
     ]
    }
   ],
   "source": [
    "print(invoice_purchases[invoice_purchases['Quantity'] < 0])  # Valores negativos\n",
    "print(invoice_purchases[(invoice_purchases['InvoiceDate'] > invoice_purchases['PayDate'])])  # Fechas inconsistentes\n"
   ]
  },
  {
   "cell_type": "markdown",
   "metadata": {},
   "source": [
    "No hay valores negativos ni fechas inconsistentes"
   ]
  },
  {
   "cell_type": "code",
   "execution_count": 524,
   "metadata": {},
   "outputs": [
    {
     "name": "stdout",
     "output_type": "stream",
     "text": [
      "Empty DataFrame\n",
      "Columns: [VendorNumber, VendorName, InvoiceDate, PONumber, PODate, PayDate, Quantity, Dollars, Freight]\n",
      "Index: []\n"
     ]
    }
   ],
   "source": [
    "inconsistent_dates = invoice_purchases[(invoice_purchases['PODate'] > invoice_purchases['InvoiceDate']) | (invoice_purchases['InvoiceDate'] > invoice_purchases['PayDate'])]\n",
    "print(inconsistent_dates)\n"
   ]
  },
  {
   "cell_type": "markdown",
   "metadata": {},
   "source": [
    "#### Analisis de outliers"
   ]
  },
  {
   "cell_type": "code",
   "execution_count": 525,
   "metadata": {},
   "outputs": [
    {
     "name": "stdout",
     "output_type": "stream",
     "text": [
      "            Quantity       Dollars      Freight\n",
      "count    5543.000000  5.543000e+03  5543.000000\n",
      "mean     6058.880931  5.807338e+04   295.954301\n",
      "std     14453.338164  1.402340e+05   713.585093\n",
      "min         1.000000  4.140000e+00     0.020000\n",
      "25%        83.000000  9.678100e+02     5.020000\n",
      "50%       423.000000  4.765450e+03    24.730000\n",
      "75%      5100.500000  4.458718e+04   229.660000\n",
      "max    141660.000000  1.660436e+06  8468.220000\n"
     ]
    }
   ],
   "source": [
    "print(invoice_purchases[['Quantity', 'Dollars', 'Freight']].describe())\n"
   ]
  },
  {
   "cell_type": "code",
   "execution_count": 526,
   "metadata": {},
   "outputs": [
    {
     "data": {
      "text/plain": [
       "<Axes: >"
      ]
     },
     "execution_count": 526,
     "metadata": {},
     "output_type": "execute_result"
    },
    {
     "data": {
      "image/png": "[encoded data removed]",
      "text/plain": [
       "<Figure size 640x480 with 1 Axes>"
      ]
     },
     "metadata": {},
     "output_type": "display_data"
    }
   ],
   "source": [
    "sns.boxplot(data=invoice_purchases[['Quantity', 'Dollars', 'Freight']])\n"
   ]
  },
  {
   "cell_type": "markdown",
   "metadata": {},
   "source": [
    "Todo ok pq precisamente quiero hacer analisis temporales"
   ]
  },
  {
   "cell_type": "markdown",
   "metadata": {},
   "source": [
    "#### analisis de coherencia entre el costo del flete (Freight) y el valor total (Dollars). hay valores de Freight desproporcionadamente altos o bajos?\n"
   ]
  },
  {
   "cell_type": "code",
   "execution_count": 527,
   "metadata": {},
   "outputs": [
    {
     "name": "stdout",
     "output_type": "stream",
     "text": [
      "            Dollars      Freight  FreightPercentage\n",
      "count  5.543000e+03  5543.000000        5543.000000\n",
      "mean   5.807338e+04   295.954301           0.550504\n",
      "std    1.402340e+05   713.585093           0.480129\n",
      "min    4.140000e+00     0.020000           0.441628\n",
      "25%    9.678100e+02     5.020000           0.470298\n",
      "50%    4.765450e+03    24.730000           0.500003\n",
      "75%    4.458718e+04   229.660000           0.529997\n",
      "max    1.660436e+06  8468.220000          11.522531\n"
     ]
    }
   ],
   "source": [
    "invoice_purchases['FreightPercentage'] = (invoice_purchases['Freight'] / invoice_purchases['Dollars']) * 100\n",
    "print(invoice_purchases[['Dollars', 'Freight', 'FreightPercentage']].describe())\n"
   ]
  },
  {
   "cell_type": "markdown",
   "metadata": {},
   "source": [
    "#### ninguno de esos valores deberia ser 0, evaluo"
   ]
  },
  {
   "cell_type": "code",
   "execution_count": 528,
   "metadata": {},
   "outputs": [
    {
     "name": "stdout",
     "output_type": "stream",
     "text": [
      "Empty DataFrame\n",
      "Columns: [VendorNumber, VendorName, InvoiceDate, PONumber, PODate, PayDate, Quantity, Dollars, Freight, FreightPercentage]\n",
      "Index: []\n"
     ]
    }
   ],
   "source": [
    "print(invoice_purchases[(invoice_purchases['Dollars'] == 0) | (invoice_purchases['Freight'] == 0)])\n"
   ]
  },
  {
   "cell_type": "code",
   "execution_count": 529,
   "metadata": {},
   "outputs": [
    {
     "name": "stdout",
     "output_type": "stream",
     "text": [
      "Registros inconsistentes: 1\n",
      "      VendorNumber                   VendorName InvoiceDate  PONumber  \\\n",
      "3951        201359  FLAVOR ESSENCE INC           2016-10-04     12061   \n",
      "\n",
      "         PODate    PayDate  Quantity  Dollars  Freight  FreightPercentage  \n",
      "3951 2016-09-12 2016-11-11         1     17.0     0.09           0.529412  \n"
     ]
    }
   ],
   "source": [
    "# Verifica si VendorNumber en invoice_purchases está en vendors\n",
    "valid_vendors = invoice_purchases['VendorNumber'].isin(purchase_prices['VendorNumber'])\n",
    "\n",
    "# Filtra registros inconsistentes\n",
    "inconsistent_vendors = invoice_purchases[~valid_vendors]\n",
    "\n",
    "print(f\"Registros inconsistentes: {len(inconsistent_vendors)}\")\n",
    "print(inconsistent_vendors)\n"
   ]
  },
  {
   "cell_type": "markdown",
   "metadata": {},
   "source": [
    "#### lo borro porque yaaaa"
   ]
  },
  {
   "cell_type": "code",
   "execution_count": 532,
   "metadata": {},
   "outputs": [],
   "source": [
    "invoice_purchases = invoice_purchases[invoice_purchases['VendorNumber'] != 201359]\n"
   ]
  },
  {
   "cell_type": "code",
   "execution_count": null,
   "metadata": {},
   "outputs": [
    {
     "name": "stdout",
     "output_type": "stream",
     "text": [
      "¿Es 'InvoicePurchaseID' única? True\n"
     ]
    }
   ],
   "source": [
    "\n",
    "# Crear una clave primaria ficticia combinando columnas existentes\n",
    "invoice_purchases['InvoicePurchaseID'] = invoice_purchases.index + 1\n",
    "\n",
    "# Verificar que la clave primaria sea única\n",
    "print(\"¿Es 'InvoicePurchaseID' única?\", invoice_purchases['InvoicePurchaseID'].is_unique)\n",
    "\n",
    "# Establecer 'InvoicePurchaseID' como índice (clave primaria)\n",
    "invoice_purchases.set_index('InvoicePurchaseID', inplace=True)\n",
    "\n",
    "# Convertir columnas de tipo objeto a string y limpiar los datos\n",
    "for col in invoice_purchases.select_dtypes(include=['object']).columns:\n",
    "    invoice_purchases[col] = invoice_purchases[col].astype('string')  # Convertir a string\n",
    "    invoice_purchases[col] = invoice_purchases[col].str.strip()  # Eliminar espacios al inicio y final\n",
    "    invoice_purchases[col] = invoice_purchases[col].str.lower()  # Convertir a minúsculas\n",
    "    invoice_purchases[col] = invoice_purchases[col].str.replace(r'\\s+', ' ', regex=True)  # Reemplazar múltiples espacios por uno\n",
    "\n",
    "# Verificar las primeras filas después de la limpieza\n",
    "print(\"Primeras filas después de limpiar las columnas de tipo objeto:\")\n",
    "print(invoice_purchases.head())\n",
    "\n",
    "# Guardar el DataFrame con la clave primaria\n",
    "invoice_purchases.to_csv('InvoicePurchases.csv')\n",
    "\n"
   ]
  },
  {
   "cell_type": "markdown",
   "metadata": {},
   "source": [
    "### Analisis de BegInventory"
   ]
  },
  {
   "cell_type": "code",
   "execution_count": 537,
   "metadata": {},
   "outputs": [
    {
     "data": {
      "text/html": [
       "<div>\n",
       "<style scoped>\n",
       "    .dataframe tbody tr th:only-of-type {\n",
       "        vertical-align: middle;\n",
       "    }\n",
       "\n",
       "    .dataframe tbody tr th {\n",
       "        vertical-align: top;\n",
       "    }\n",
       "\n",
       "    .dataframe thead th {\n",
       "        text-align: right;\n",
       "    }\n",
       "</style>\n",
       "<table border=\"1\" class=\"dataframe\">\n",
       "  <thead>\n",
       "    <tr style=\"text-align: right;\">\n",
       "      <th></th>\n",
       "      <th>InventoryId</th>\n",
       "      <th>Store</th>\n",
       "      <th>City</th>\n",
       "      <th>Brand</th>\n",
       "      <th>Description</th>\n",
       "      <th>Size</th>\n",
       "      <th>onHand</th>\n",
       "      <th>Price</th>\n",
       "      <th>startDate</th>\n",
       "    </tr>\n",
       "  </thead>\n",
       "  <tbody>\n",
       "    <tr>\n",
       "      <th>0</th>\n",
       "      <td>1_HARDERSFIELD_58</td>\n",
       "      <td>1</td>\n",
       "      <td>HARDERSFIELD</td>\n",
       "      <td>58</td>\n",
       "      <td>Gekkeikan Black &amp; Gold Sake</td>\n",
       "      <td>750mL</td>\n",
       "      <td>8</td>\n",
       "      <td>12.99</td>\n",
       "      <td>2016-01-01</td>\n",
       "    </tr>\n",
       "    <tr>\n",
       "      <th>1</th>\n",
       "      <td>1_HARDERSFIELD_60</td>\n",
       "      <td>1</td>\n",
       "      <td>HARDERSFIELD</td>\n",
       "      <td>60</td>\n",
       "      <td>Canadian Club 1858 VAP</td>\n",
       "      <td>750mL</td>\n",
       "      <td>7</td>\n",
       "      <td>10.99</td>\n",
       "      <td>2016-01-01</td>\n",
       "    </tr>\n",
       "    <tr>\n",
       "      <th>2</th>\n",
       "      <td>1_HARDERSFIELD_62</td>\n",
       "      <td>1</td>\n",
       "      <td>HARDERSFIELD</td>\n",
       "      <td>62</td>\n",
       "      <td>Herradura Silver Tequila</td>\n",
       "      <td>750mL</td>\n",
       "      <td>6</td>\n",
       "      <td>36.99</td>\n",
       "      <td>2016-01-01</td>\n",
       "    </tr>\n",
       "    <tr>\n",
       "      <th>3</th>\n",
       "      <td>1_HARDERSFIELD_63</td>\n",
       "      <td>1</td>\n",
       "      <td>HARDERSFIELD</td>\n",
       "      <td>63</td>\n",
       "      <td>Herradura Reposado Tequila</td>\n",
       "      <td>750mL</td>\n",
       "      <td>3</td>\n",
       "      <td>38.99</td>\n",
       "      <td>2016-01-01</td>\n",
       "    </tr>\n",
       "    <tr>\n",
       "      <th>4</th>\n",
       "      <td>1_HARDERSFIELD_72</td>\n",
       "      <td>1</td>\n",
       "      <td>HARDERSFIELD</td>\n",
       "      <td>72</td>\n",
       "      <td>No. 3 London Dry Gin</td>\n",
       "      <td>750mL</td>\n",
       "      <td>6</td>\n",
       "      <td>34.99</td>\n",
       "      <td>2016-01-01</td>\n",
       "    </tr>\n",
       "  </tbody>\n",
       "</table>\n",
       "</div>"
      ],
      "text/plain": [
       "         InventoryId  Store          City  Brand                  Description  \\\n",
       "0  1_HARDERSFIELD_58      1  HARDERSFIELD     58  Gekkeikan Black & Gold Sake   \n",
       "1  1_HARDERSFIELD_60      1  HARDERSFIELD     60       Canadian Club 1858 VAP   \n",
       "2  1_HARDERSFIELD_62      1  HARDERSFIELD     62     Herradura Silver Tequila   \n",
       "3  1_HARDERSFIELD_63      1  HARDERSFIELD     63   Herradura Reposado Tequila   \n",
       "4  1_HARDERSFIELD_72      1  HARDERSFIELD     72         No. 3 London Dry Gin   \n",
       "\n",
       "    Size  onHand  Price   startDate  \n",
       "0  750mL       8  12.99  2016-01-01  \n",
       "1  750mL       7  10.99  2016-01-01  \n",
       "2  750mL       6  36.99  2016-01-01  \n",
       "3  750mL       3  38.99  2016-01-01  \n",
       "4  750mL       6  34.99  2016-01-01  "
      ]
     },
     "execution_count": 537,
     "metadata": {},
     "output_type": "execute_result"
    }
   ],
   "source": [
    "beg_inventory = pd.read_csv('BegInvFINAL.csv')\n",
    "beg_inventory.head()"
   ]
  },
  {
   "cell_type": "code",
   "execution_count": 538,
   "metadata": {},
   "outputs": [
    {
     "name": "stdout",
     "output_type": "stream",
     "text": [
      "Tipos de datos iniciales:\n",
      "<class 'pandas.core.frame.DataFrame'>\n",
      "RangeIndex: 206529 entries, 0 to 206528\n",
      "Data columns (total 9 columns):\n",
      " #   Column       Non-Null Count   Dtype  \n",
      "---  ------       --------------   -----  \n",
      " 0   InventoryId  206529 non-null  object \n",
      " 1   Store        206529 non-null  int64  \n",
      " 2   City         206529 non-null  object \n",
      " 3   Brand        206529 non-null  int64  \n",
      " 4   Description  206529 non-null  object \n",
      " 5   Size         206529 non-null  object \n",
      " 6   onHand       206529 non-null  int64  \n",
      " 7   Price        206529 non-null  float64\n",
      " 8   startDate    206529 non-null  object \n",
      "dtypes: float64(1), int64(3), object(5)\n",
      "memory usage: 14.2+ MB\n",
      "None\n"
     ]
    }
   ],
   "source": [
    "print(\"Tipos de datos iniciales:\")\n",
    "print(beg_inventory.info())"
   ]
  },
  {
   "cell_type": "code",
   "execution_count": 539,
   "metadata": {},
   "outputs": [
    {
     "name": "stdout",
     "output_type": "stream",
     "text": [
      "Datos después de la transformación:\n",
      "<class 'pandas.core.frame.DataFrame'>\n",
      "Index: 206529 entries, 1_HARDERSFIELD_58 to 79_BALLYMENA_90089\n",
      "Data columns (total 8 columns):\n",
      " #   Column       Non-Null Count   Dtype         \n",
      "---  ------       --------------   -----         \n",
      " 0   Store        206529 non-null  int64         \n",
      " 1   City         206529 non-null  object        \n",
      " 2   Brand        206529 non-null  int64         \n",
      " 3   Description  206529 non-null  object        \n",
      " 4   Size         206529 non-null  object        \n",
      " 5   onHand       206529 non-null  int64         \n",
      " 6   Price        206529 non-null  float64       \n",
      " 7   startDate    206529 non-null  datetime64[ns]\n",
      "dtypes: datetime64[ns](1), float64(1), int64(3), object(3)\n",
      "memory usage: 14.2+ MB\n",
      "None\n",
      "                   Store          City  Brand                  Description  \\\n",
      "InventoryId                                                                  \n",
      "1_HARDERSFIELD_58      1  hardersfield     58  gekkeikan black & gold sake   \n",
      "1_HARDERSFIELD_60      1  hardersfield     60       canadian club 1858 vap   \n",
      "1_HARDERSFIELD_62      1  hardersfield     62     herradura silver tequila   \n",
      "1_HARDERSFIELD_63      1  hardersfield     63   herradura reposado tequila   \n",
      "1_HARDERSFIELD_72      1  hardersfield     72         no. 3 london dry gin   \n",
      "\n",
      "                    Size  onHand  Price  startDate  \n",
      "InventoryId                                         \n",
      "1_HARDERSFIELD_58  750ml       8  12.99 2016-01-01  \n",
      "1_HARDERSFIELD_60  750ml       7  10.99 2016-01-01  \n",
      "1_HARDERSFIELD_62  750ml       6  36.99 2016-01-01  \n",
      "1_HARDERSFIELD_63  750ml       3  38.99 2016-01-01  \n",
      "1_HARDERSFIELD_72  750ml       6  34.99 2016-01-01  \n"
     ]
    }
   ],
   "source": [
    "# Cambiar tipos de datos\n",
    "beg_inventory['InventoryId'] = beg_inventory['InventoryId'].astype(str)  # Pasar a string\n",
    "beg_inventory['City'] = beg_inventory['City'].astype(str).str.strip().str.lower()  # Normalizar string\n",
    "beg_inventory['Description'] = beg_inventory['Description'].astype(str).str.strip().str.lower()  # Normalizar string\n",
    "beg_inventory['Size'] = beg_inventory['Size'].astype(str).str.strip().str.lower()  # Normalizar string\n",
    "beg_inventory['startDate'] = pd.to_datetime(beg_inventory['startDate'], errors='coerce')  # Convertir a fecha\n",
    "\n",
    "# Establecer InventoryId como índice\n",
    "beg_inventory.set_index('InventoryId', inplace=True)\n",
    "\n",
    "# Verificar los cambios realizados\n",
    "print(\"Datos después de la transformación:\")\n",
    "print(beg_inventory.info())\n",
    "print(beg_inventory.head())\n",
    "\n",
    "# Guardar el DataFrame limpio\n",
    "beg_inventory.to_csv('BegInv.csv')\n",
    "\n"
   ]
  },
  {
   "cell_type": "code",
   "execution_count": 540,
   "metadata": {},
   "outputs": [
    {
     "data": {
      "text/html": [
       "<div>\n",
       "<style scoped>\n",
       "    .dataframe tbody tr th:only-of-type {\n",
       "        vertical-align: middle;\n",
       "    }\n",
       "\n",
       "    .dataframe tbody tr th {\n",
       "        vertical-align: top;\n",
       "    }\n",
       "\n",
       "    .dataframe thead th {\n",
       "        text-align: right;\n",
       "    }\n",
       "</style>\n",
       "<table border=\"1\" class=\"dataframe\">\n",
       "  <thead>\n",
       "    <tr style=\"text-align: right;\">\n",
       "      <th></th>\n",
       "      <th>Store</th>\n",
       "      <th>City</th>\n",
       "      <th>Brand</th>\n",
       "      <th>Description</th>\n",
       "      <th>Size</th>\n",
       "      <th>onHand</th>\n",
       "      <th>Price</th>\n",
       "      <th>startDate</th>\n",
       "    </tr>\n",
       "    <tr>\n",
       "      <th>InventoryId</th>\n",
       "      <th></th>\n",
       "      <th></th>\n",
       "      <th></th>\n",
       "      <th></th>\n",
       "      <th></th>\n",
       "      <th></th>\n",
       "      <th></th>\n",
       "      <th></th>\n",
       "    </tr>\n",
       "  </thead>\n",
       "  <tbody>\n",
       "    <tr>\n",
       "      <th>1_HARDERSFIELD_58</th>\n",
       "      <td>1</td>\n",
       "      <td>hardersfield</td>\n",
       "      <td>58</td>\n",
       "      <td>gekkeikan black &amp; gold sake</td>\n",
       "      <td>750ml</td>\n",
       "      <td>8</td>\n",
       "      <td>12.99</td>\n",
       "      <td>2016-01-01</td>\n",
       "    </tr>\n",
       "    <tr>\n",
       "      <th>1_HARDERSFIELD_60</th>\n",
       "      <td>1</td>\n",
       "      <td>hardersfield</td>\n",
       "      <td>60</td>\n",
       "      <td>canadian club 1858 vap</td>\n",
       "      <td>750ml</td>\n",
       "      <td>7</td>\n",
       "      <td>10.99</td>\n",
       "      <td>2016-01-01</td>\n",
       "    </tr>\n",
       "    <tr>\n",
       "      <th>1_HARDERSFIELD_62</th>\n",
       "      <td>1</td>\n",
       "      <td>hardersfield</td>\n",
       "      <td>62</td>\n",
       "      <td>herradura silver tequila</td>\n",
       "      <td>750ml</td>\n",
       "      <td>6</td>\n",
       "      <td>36.99</td>\n",
       "      <td>2016-01-01</td>\n",
       "    </tr>\n",
       "    <tr>\n",
       "      <th>1_HARDERSFIELD_63</th>\n",
       "      <td>1</td>\n",
       "      <td>hardersfield</td>\n",
       "      <td>63</td>\n",
       "      <td>herradura reposado tequila</td>\n",
       "      <td>750ml</td>\n",
       "      <td>3</td>\n",
       "      <td>38.99</td>\n",
       "      <td>2016-01-01</td>\n",
       "    </tr>\n",
       "    <tr>\n",
       "      <th>1_HARDERSFIELD_72</th>\n",
       "      <td>1</td>\n",
       "      <td>hardersfield</td>\n",
       "      <td>72</td>\n",
       "      <td>no. 3 london dry gin</td>\n",
       "      <td>750ml</td>\n",
       "      <td>6</td>\n",
       "      <td>34.99</td>\n",
       "      <td>2016-01-01</td>\n",
       "    </tr>\n",
       "  </tbody>\n",
       "</table>\n",
       "</div>"
      ],
      "text/plain": [
       "                   Store          City  Brand                  Description  \\\n",
       "InventoryId                                                                  \n",
       "1_HARDERSFIELD_58      1  hardersfield     58  gekkeikan black & gold sake   \n",
       "1_HARDERSFIELD_60      1  hardersfield     60       canadian club 1858 vap   \n",
       "1_HARDERSFIELD_62      1  hardersfield     62     herradura silver tequila   \n",
       "1_HARDERSFIELD_63      1  hardersfield     63   herradura reposado tequila   \n",
       "1_HARDERSFIELD_72      1  hardersfield     72         no. 3 london dry gin   \n",
       "\n",
       "                    Size  onHand  Price  startDate  \n",
       "InventoryId                                         \n",
       "1_HARDERSFIELD_58  750ml       8  12.99 2016-01-01  \n",
       "1_HARDERSFIELD_60  750ml       7  10.99 2016-01-01  \n",
       "1_HARDERSFIELD_62  750ml       6  36.99 2016-01-01  \n",
       "1_HARDERSFIELD_63  750ml       3  38.99 2016-01-01  \n",
       "1_HARDERSFIELD_72  750ml       6  34.99 2016-01-01  "
      ]
     },
     "execution_count": 540,
     "metadata": {},
     "output_type": "execute_result"
    }
   ],
   "source": [
    "beg_inventory.head()"
   ]
  },
  {
   "cell_type": "code",
   "execution_count": 541,
   "metadata": {},
   "outputs": [
    {
     "name": "stdout",
     "output_type": "stream",
     "text": [
      "\n",
      "Filas con valores nulos:\n",
      "Empty DataFrame\n",
      "Columns: [Store, City, Brand, Description, Size, onHand, Price, startDate]\n",
      "Index: []\n"
     ]
    }
   ],
   "source": [
    "# Identificar las filas con valores nulos\n",
    "nulos = beg_inventory[beg_inventory.isnull().any(axis=1)]\n",
    "\n",
    "# Mostrar solo los valores nulos (indicando las columnas afectadas)\n",
    "print(\"\\nFilas con valores nulos:\")\n",
    "print(nulos)\n",
    "\n"
   ]
  },
  {
   "cell_type": "code",
   "execution_count": 542,
   "metadata": {},
   "outputs": [
    {
     "name": "stdout",
     "output_type": "stream",
     "text": [
      "\n",
      "Valores únicos por columna:\n",
      "Store: 79 valores únicos\n",
      "[ 1  2  3  4  5  6  7  8  9 10]\n",
      "--------------------------------------------------\n",
      "City: 67 valores únicos\n",
      "['hardersfield' 'ashborne' 'hornsey' 'eanverness' 'sutton' 'goulcrest'\n",
      " 'stanmore' 'alnerwick' 'blackpool' 'cardend']\n",
      "--------------------------------------------------\n",
      "Brand: 8094 valores únicos\n",
      "[ 58  60  62  63  72  75  77  79 115 120]\n",
      "--------------------------------------------------\n",
      "Description: 7287 valores únicos\n",
      "['gekkeikan black & gold sake' 'canadian club 1858 vap'\n",
      " 'herradura silver tequila' 'herradura reposado tequila'\n",
      " 'no. 3 london dry gin' 'three olives tomato vodka'\n",
      " 'three olives espresso vodka' 'three olives loopy vodka'\n",
      " 'belvedere vodka' 'tarantula azul tequila gift']\n",
      "--------------------------------------------------\n",
      "Size: 41 valores únicos\n",
      "['750ml' 'liter' '1.75l' '50ml' '375ml' '50ml 4 pk' '375ml 2 pk'\n",
      " '750ml 3 pk' '375ml 3 pk' '750ml + 3/']\n",
      "--------------------------------------------------\n",
      "onHand: 474 valores únicos\n",
      "[ 8  7  6  3 18  2  5 11 17  0]\n",
      "--------------------------------------------------\n",
      "Price: 329 valores únicos\n",
      "[12.99 10.99 36.99 38.99 34.99 14.99 27.99 13.99 29.99 26.99]\n",
      "--------------------------------------------------\n",
      "startDate: 1 valores únicos\n",
      "<DatetimeArray>\n",
      "['2016-01-01 00:00:00']\n",
      "Length: 1, dtype: datetime64[ns]\n",
      "--------------------------------------------------\n"
     ]
    }
   ],
   "source": [
    "# Excluir la columna índice (ID)\n",
    "columns_to_analyze = beg_inventory.columns  # Todas las columnas excepto el índice\n",
    "\n",
    "# Mostrar los valores únicos en cada columna\n",
    "print(\"\\nValores únicos por columna:\")\n",
    "for column in columns_to_analyze:\n",
    "    unique_values = beg_inventory[column].unique()\n",
    "    print(f\"{column}: {len(unique_values)} valores únicos\")\n",
    "    print(unique_values[:10])  # Mostrar solo los primeros 10 valores para evitar salidas muy largas\n",
    "    print(\"-\" * 50)\n"
   ]
  },
  {
   "cell_type": "markdown",
   "metadata": {},
   "source": [
    "startDate: 1 valores únicos\n",
    "<DatetimeArray>\n",
    "['2016-01-01 00:00:00']\n",
    "Length: 1, dtype: datetime64[ns] hay solo un dia?????"
   ]
  },
  {
   "cell_type": "code",
   "execution_count": 543,
   "metadata": {},
   "outputs": [
    {
     "name": "stdout",
     "output_type": "stream",
     "text": [
      "\n",
      "Verificación de valores nulos (NaN):\n",
      "Store          0\n",
      "City           0\n",
      "Brand          0\n",
      "Description    0\n",
      "Size           0\n",
      "onHand         0\n",
      "Price          0\n",
      "startDate      0\n",
      "dtype: int64\n",
      "\n",
      "Verificación de cadenas vacías o espacios en blanco:\n",
      "City: 0 filas con cadenas vacías o espacios.\n",
      "Description: 0 filas con cadenas vacías o espacios.\n",
      "Size: 0 filas con cadenas vacías o espacios.\n",
      "\n",
      "Verificación de valores sospechosos como -1, 0, 'none':\n",
      "Store: 0 filas con valores sospechosos.\n",
      "City: 0 filas con valores sospechosos.\n",
      "Brand: 0 filas con valores sospechosos.\n",
      "Description: 0 filas con valores sospechosos.\n",
      "Size: 0 filas con valores sospechosos.\n",
      "onHand: 6044 filas con valores sospechosos.\n",
      "                    Store          City  Brand                  Description  \\\n",
      "InventoryId                                                                   \n",
      "1_HARDERSFIELD_165      1  hardersfield    165     gentleman jack gift pack   \n",
      "1_HARDERSFIELD_305      1  hardersfield    305  crown royal canadian whisky   \n",
      "1_HARDERSFIELD_356      1  hardersfield    356   carolans irish cr gift set   \n",
      "1_HARDERSFIELD_482      1  hardersfield    482             absolut 80 proof   \n",
      "1_HARDERSFIELD_513      1  hardersfield    513                  ocean vodka   \n",
      "\n",
      "                     Size  onHand  Price  startDate  \n",
      "InventoryId                                          \n",
      "1_HARDERSFIELD_165  750ml       0  26.99 2016-01-01  \n",
      "1_HARDERSFIELD_305  liter       0  27.99 2016-01-01  \n",
      "1_HARDERSFIELD_356  750ml       0  11.49 2016-01-01  \n",
      "1_HARDERSFIELD_482  liter       0  19.99 2016-01-01  \n",
      "1_HARDERSFIELD_513  750ml       0  28.99 2016-01-01  \n",
      "Price: 2 filas con valores sospechosos.\n",
      "                    Store       City  Brand                   Description  \\\n",
      "InventoryId                                                                 \n",
      "15_WANBORNE_19138      15   wanborne  19138  gerard bertrand organic rose   \n",
      "69_MOUNTMEND_19138     69  mountmend  19138  gerard bertrand organic rose   \n",
      "\n",
      "                     Size  onHand  Price  startDate  \n",
      "InventoryId                                          \n",
      "15_WANBORNE_19138   750ml       0    0.0 2016-01-01  \n",
      "69_MOUNTMEND_19138  750ml       2    0.0 2016-01-01  \n",
      "startDate: 0 filas con valores sospechosos.\n"
     ]
    }
   ],
   "source": [
    "# Verificar valores nulos explícitos\n",
    "print(\"\\nVerificación de valores nulos (NaN):\")\n",
    "print(beg_inventory.isnull().sum())\n",
    "\n",
    "# Verificar cadenas vacías o espacios en blanco en columnas tipo string\n",
    "print(\"\\nVerificación de cadenas vacías o espacios en blanco:\")\n",
    "for column in beg_inventory.select_dtypes(include=['object']).columns:\n",
    "    empty_values = beg_inventory[beg_inventory[column].str.strip() == \"\"]\n",
    "    print(f\"{column}: {len(empty_values)} filas con cadenas vacías o espacios.\")\n",
    "    if not empty_values.empty:\n",
    "        print(empty_values)\n",
    "\n",
    "# Verificar valores específicos que podrían representar datos faltantes\n",
    "print(\"\\nVerificación de valores sospechosos como -1, 0, 'none':\")\n",
    "suspicious_values = [-1, 0, 'none', 'na', 'n/a', 'null', '']\n",
    "for column in beg_inventory.columns:\n",
    "    if beg_inventory[column].dtype == 'object':\n",
    "        invalid = beg_inventory[beg_inventory[column].str.lower().isin(suspicious_values)]\n",
    "    else:\n",
    "        invalid = beg_inventory[beg_inventory[column].isin([-1, 0])]\n",
    "    print(f\"{column}: {len(invalid)} filas con valores sospechosos.\")\n",
    "    if not invalid.empty:\n",
    "        print(invalid.head())\n"
   ]
  },
  {
   "cell_type": "markdown",
   "metadata": {},
   "source": [
    "hay dos datos en price con valores raros de 0"
   ]
  },
  {
   "cell_type": "code",
   "execution_count": 544,
   "metadata": {},
   "outputs": [
    {
     "name": "stdout",
     "output_type": "stream",
     "text": [
      "\n",
      "Análisis de duplicados:\n",
      "Duplicados encontrados: 0\n"
     ]
    }
   ],
   "source": [
    "# Revisar duplicados\n",
    "print(\"\\nAnálisis de duplicados:\")\n",
    "duplicated_rows = beg_inventory[beg_inventory.duplicated()]\n",
    "print(f\"Duplicados encontrados: {len(duplicated_rows)}\")\n",
    "if len(duplicated_rows) > 0:\n",
    "    print(duplicated_rows)"
   ]
  },
  {
   "cell_type": "code",
   "execution_count": 545,
   "metadata": {},
   "outputs": [
    {
     "name": "stdout",
     "output_type": "stream",
     "text": [
      "\n",
      "Análisis de inconsistencias:\n",
      "Rango de valores en columnas numéricas:\n",
      "               Store          Brand         onHand          Price\n",
      "count  206529.000000  206529.000000  206529.000000  206529.000000\n",
      "mean       42.122457   13761.482320      20.429455      22.253910\n",
      "std        23.191393   13059.429355      31.467342      70.178964\n",
      "min         1.000000      58.000000       0.000000       0.000000\n",
      "25%        22.000000    3746.000000       7.000000       9.990000\n",
      "50%        42.000000    8010.000000      12.000000      14.990000\n",
      "75%        64.000000   22143.000000      21.000000      21.990000\n",
      "max        79.000000   90090.000000    1251.000000   13999.900000\n"
     ]
    }
   ],
   "source": [
    "# Analizar valores inconsistentes o anómalos\n",
    "print(\"\\nAnálisis de inconsistencias:\")\n",
    "# Verificar rangos y valores atípicos\n",
    "print(\"Rango de valores en columnas numéricas:\")\n",
    "print(beg_inventory[['Store', 'Brand', 'onHand', 'Price']].describe())\n"
   ]
  },
  {
   "cell_type": "code",
   "execution_count": 546,
   "metadata": {},
   "outputs": [],
   "source": [
    "# Corregir valores inconsistentes (ejemplo: mayúsculas, espacios, etc.)\n",
    "beg_inventory['City'] = beg_inventory['City'].str.strip().str.lower()\n",
    "beg_inventory['Description'] = beg_inventory['Description'].str.strip().str.lower()\n",
    "beg_inventory['Size'] = beg_inventory['Size'].str.strip().str.lower()\n"
   ]
  },
  {
   "cell_type": "code",
   "execution_count": 547,
   "metadata": {},
   "outputs": [
    {
     "name": "stdout",
     "output_type": "stream",
     "text": [
      "\n",
      "Revisión de fechas:\n",
      "count                 206529\n",
      "mean     2016-01-01 00:00:00\n",
      "min      2016-01-01 00:00:00\n",
      "25%      2016-01-01 00:00:00\n",
      "50%      2016-01-01 00:00:00\n",
      "75%      2016-01-01 00:00:00\n",
      "max      2016-01-01 00:00:00\n",
      "Name: startDate, dtype: object\n"
     ]
    }
   ],
   "source": [
    "\n",
    "# Revisar fechas\n",
    "print(\"\\nRevisión de fechas:\")\n",
    "print(beg_inventory['startDate'].describe())\n",
    "# Eliminar o corregir fechas inválidas si hay errores\n",
    "beg_inventory['startDate'] = pd.to_datetime(beg_inventory['startDate'], errors='coerce')\n",
    "beg_inventory = beg_inventory.dropna(subset=['startDate'])\n"
   ]
  },
  {
   "cell_type": "code",
   "execution_count": 548,
   "metadata": {},
   "outputs": [
    {
     "name": "stdout",
     "output_type": "stream",
     "text": [
      "\n",
      "Registros con precios inválidos:\n",
      "                    Store       City  Brand                   Description  \\\n",
      "InventoryId                                                                 \n",
      "15_WANBORNE_19138      15   wanborne  19138  gerard bertrand organic rose   \n",
      "69_MOUNTMEND_19138     69  mountmend  19138  gerard bertrand organic rose   \n",
      "\n",
      "                     Size  onHand  Price  startDate  \n",
      "InventoryId                                          \n",
      "15_WANBORNE_19138   750ml       0    0.0 2016-01-01  \n",
      "69_MOUNTMEND_19138  750ml       2    0.0 2016-01-01  \n"
     ]
    }
   ],
   "source": [
    "\n",
    "# Validar valores numéricos (ejemplo: precios negativos)\n",
    "invalid_prices = beg_inventory[beg_inventory['Price'] <= 0]\n",
    "print(\"\\nRegistros con precios inválidos:\")\n",
    "print(invalid_prices)\n",
    "beg_inventory = beg_inventory[beg_inventory['Price'] > 0]\n",
    "\n",
    "\n"
   ]
  },
  {
   "cell_type": "code",
   "execution_count": 551,
   "metadata": {},
   "outputs": [
    {
     "name": "stdout",
     "output_type": "stream",
     "text": [
      "Primeras filas del DataFrame después de procesar la columna 'Size':\n",
      "                     Size  size_ml  pack_count\n",
      "InventoryId                                   \n",
      "1_HARDERSFIELD_58   750ml    750.0           1\n",
      "1_HARDERSFIELD_60   750ml    750.0           1\n",
      "1_HARDERSFIELD_62   750ml    750.0           1\n",
      "1_HARDERSFIELD_63   750ml    750.0           1\n",
      "1_HARDERSFIELD_72   750ml    750.0           1\n",
      "1_HARDERSFIELD_75   750ml    750.0           1\n",
      "1_HARDERSFIELD_77   750ml    750.0           1\n",
      "1_HARDERSFIELD_79   750ml    750.0           1\n",
      "1_HARDERSFIELD_115  liter   1000.0           1\n",
      "1_HARDERSFIELD_120  750ml    750.0           1\n",
      "Valores nulos en las columnas derivadas:\n",
      "size_ml       0\n",
      "pack_count    0\n",
      "dtype: int64\n",
      "Valores problemáticos restantes en la columna 'Size':\n",
      "[]\n"
     ]
    }
   ],
   "source": [
    "# Función para procesar la columna 'Size', incluyendo casos específicos problemáticos\n",
    "def parse_size(size):\n",
    "    if pd.isnull(size):  # Verificar si el valor es nulo\n",
    "        return {\"size_ml\": np.nan, \"pack_count\": np.nan}  # Retorna valores nulos si el campo es vacío\n",
    "\n",
    "    size = size.strip().lower()  # Elimina espacios al principio/final y convierte a minúsculas\n",
    "\n",
    "    # Manejar paquetes, como \"100mL 4 Pk\"\n",
    "    match = re.match(r\"(\\d+(?:\\.\\d+)?)(ml|l) (\\d+) pk\", size)\n",
    "    if match:\n",
    "        unit_size = float(match.group(1))  # Tamaño individual\n",
    "        if match.group(2) == 'l':  # Convertir litros a mililitros\n",
    "            unit_size *= 1000\n",
    "        pack_count = int(match.group(3))  # Número de botellas en el paquete\n",
    "        return {\"size_ml\": unit_size, \"pack_count\": pack_count}\n",
    "\n",
    "    # Manejar tamaños con adicionales, como \"750mL + 3/\"\n",
    "    match = re.match(r\"(\\d+(?:\\.\\d+)?)(ml|l)(?: \\+ (\\d+)/)?\", size)\n",
    "    if match:\n",
    "        unit_size = float(match.group(1))  # Tamaño individual\n",
    "        if match.group(2) == 'l':  # Convertir litros a mililitros\n",
    "            unit_size *= 1000\n",
    "        additional_count = int(match.group(3)) if match.group(3) else 0  # Ítems adicionales\n",
    "        return {\"size_ml\": unit_size, \"pack_count\": 1 + additional_count}\n",
    "\n",
    "    # Manejar tamaños con número adicional separado por espacios, como \"750mL  3\"\n",
    "    match = re.match(r\"(\\d+(?:\\.\\d+)?)(ml|l)\\s+(\\d+)\", size)\n",
    "    if match:\n",
    "        unit_size = float(match.group(1))  # Tamaño individual\n",
    "        if match.group(2) == 'l':  # Convertir litros a mililitros\n",
    "            unit_size *= 1000\n",
    "        pack_count = int(match.group(3))  # Número adicional\n",
    "        return {\"size_ml\": unit_size, \"pack_count\": pack_count}\n",
    "\n",
    "    # Manejar tamaños individuales, como \"750mL\" o \"162.5mL\"\n",
    "    match = re.match(r\"(\\d+(?:\\.\\d+)?)(ml|l)\", size)\n",
    "    if match:\n",
    "        unit_size = float(match.group(1))  # Tamaño individual\n",
    "        if match.group(2) == 'l':  # Convertir litros a mililitros\n",
    "            unit_size *= 1000\n",
    "        return {\"size_ml\": unit_size, \"pack_count\": 1}\n",
    "\n",
    "    # Manejar otros formatos como onzas u otros\n",
    "    match = re.match(r\"(\\d+(?:\\.\\d+)?)\\s?(oz|gal)\", size)\n",
    "    if match:\n",
    "        unit_size = float(match.group(1))\n",
    "        if match.group(2) == 'oz':  # Convertir onzas a mililitros\n",
    "            unit_size *= 29.5735\n",
    "        elif match.group(2) == 'gal':  # Convertir galones a mililitros\n",
    "            unit_size *= 3785.41\n",
    "        return {\"size_ml\": unit_size, \"pack_count\": 1}\n",
    "\n",
    "    # Casos específicos problemáticos\n",
    "    if size == 'liter':\n",
    "        return {\"size_ml\": 1000.0, \"pack_count\": 1}  # Interpretar un litro como 1000ml\n",
    "    if size == '3/100ml':\n",
    "        return {\"size_ml\": 100.0, \"pack_count\": 3}  # Interpretar \"3/100ml\" como tres paquetes de 100ml\n",
    "\n",
    "    # Retornar valores nulos si el tamaño no coincide con ningún patrón conocido\n",
    "    return {\"size_ml\": np.nan, \"pack_count\": np.nan}\n",
    "\n",
    "# Aplicar la función parse_size a la columna 'Size'\n",
    "size_data = beg_inventory['Size'].apply(parse_size)\n",
    "\n",
    "# Crear nuevas columnas en el DataFrame\n",
    "beg_inventory['size_ml'] = size_data.apply(lambda x: x['size_ml'])\n",
    "beg_inventory['pack_count'] = size_data.apply(lambda x: x['pack_count'])\n",
    "\n",
    "# Verificar las primeras filas para confirmar resultados\n",
    "print(\"Primeras filas del DataFrame después de procesar la columna 'Size':\")\n",
    "print(beg_inventory[['Size', 'size_ml', 'pack_count']].head(10))\n",
    "\n",
    "# Contar valores nulos para evaluar el éxito del procesamiento\n",
    "print(\"Valores nulos en las columnas derivadas:\")\n",
    "print(beg_inventory[['size_ml', 'pack_count']].isnull().sum())\n",
    "\n",
    "# Identificar valores problemáticos restantes\n",
    "problematic_rows = beg_inventory[beg_inventory['size_ml'].isnull()]\n",
    "print(\"Valores problemáticos restantes en la columna 'Size':\")\n",
    "print(problematic_rows['Size'].unique())\n"
   ]
  },
  {
   "cell_type": "code",
   "execution_count": 552,
   "metadata": {},
   "outputs": [
    {
     "name": "stdout",
     "output_type": "stream",
     "text": [
      "Primeras filas después de convertir el índice a minúsculas:\n",
      "                   Store          City  Brand                  Description  \\\n",
      "InventoryId                                                                  \n",
      "1_hardersfield_58      1  hardersfield     58  gekkeikan black & gold sake   \n",
      "1_hardersfield_60      1  hardersfield     60       canadian club 1858 vap   \n",
      "1_hardersfield_62      1  hardersfield     62     herradura silver tequila   \n",
      "1_hardersfield_63      1  hardersfield     63   herradura reposado tequila   \n",
      "1_hardersfield_72      1  hardersfield     72         no. 3 london dry gin   \n",
      "\n",
      "                    Size  onHand  Price  startDate  size_ml  pack_count  \n",
      "InventoryId                                                              \n",
      "1_hardersfield_58  750ml       8  12.99 2016-01-01    750.0           1  \n",
      "1_hardersfield_60  750ml       7  10.99 2016-01-01    750.0           1  \n",
      "1_hardersfield_62  750ml       6  36.99 2016-01-01    750.0           1  \n",
      "1_hardersfield_63  750ml       3  38.99 2016-01-01    750.0           1  \n",
      "1_hardersfield_72  750ml       6  34.99 2016-01-01    750.0           1  \n"
     ]
    }
   ],
   "source": [
    "# Convertir el índice 'InventoryId' a minúsculas\n",
    "beg_inventory.index = beg_inventory.index.str.lower()\n",
    "\n",
    "# Confirmar el cambio\n",
    "print(\"Primeras filas después de convertir el índice a minúsculas:\")\n",
    "print(beg_inventory.head())\n",
    "\n",
    "# Guardar el DataFrame con 'InventoryId' como índice en un archivo CSV\n",
    "beg_inventory.to_csv('BegInventory.csv', index=True)\n",
    "\n"
   ]
  },
  {
   "cell_type": "markdown",
   "metadata": {},
   "source": [
    "### Analisis de Purchases"
   ]
  },
  {
   "cell_type": "code",
   "execution_count": 559,
   "metadata": {},
   "outputs": [
    {
     "data": {
      "text/html": [
       "<div>\n",
       "<style scoped>\n",
       "    .dataframe tbody tr th:only-of-type {\n",
       "        vertical-align: middle;\n",
       "    }\n",
       "\n",
       "    .dataframe tbody tr th {\n",
       "        vertical-align: top;\n",
       "    }\n",
       "\n",
       "    .dataframe thead th {\n",
       "        text-align: right;\n",
       "    }\n",
       "</style>\n",
       "<table border=\"1\" class=\"dataframe\">\n",
       "  <thead>\n",
       "    <tr style=\"text-align: right;\">\n",
       "      <th></th>\n",
       "      <th>InventoryId</th>\n",
       "      <th>Store</th>\n",
       "      <th>Brand</th>\n",
       "      <th>Description</th>\n",
       "      <th>Size</th>\n",
       "      <th>VendorNumber</th>\n",
       "      <th>VendorName</th>\n",
       "      <th>PONumber</th>\n",
       "      <th>PODate</th>\n",
       "      <th>ReceivingDate</th>\n",
       "      <th>InvoiceDate</th>\n",
       "      <th>PayDate</th>\n",
       "      <th>PurchasePrice</th>\n",
       "      <th>Quantity</th>\n",
       "      <th>Dollars</th>\n",
       "      <th>Classification</th>\n",
       "    </tr>\n",
       "  </thead>\n",
       "  <tbody>\n",
       "    <tr>\n",
       "      <th>0</th>\n",
       "      <td>69_MOUNTMEND_8412</td>\n",
       "      <td>69</td>\n",
       "      <td>8412</td>\n",
       "      <td>Tequila Ocho Plata Fresno</td>\n",
       "      <td>750mL</td>\n",
       "      <td>105</td>\n",
       "      <td>ALTAMAR BRANDS LLC</td>\n",
       "      <td>8124</td>\n",
       "      <td>2015-12-21</td>\n",
       "      <td>2016-01-02</td>\n",
       "      <td>2016-01-04</td>\n",
       "      <td>2016-02-16</td>\n",
       "      <td>35.71</td>\n",
       "      <td>6</td>\n",
       "      <td>214.26</td>\n",
       "      <td>1</td>\n",
       "    </tr>\n",
       "    <tr>\n",
       "      <th>1</th>\n",
       "      <td>30_CULCHETH_5255</td>\n",
       "      <td>30</td>\n",
       "      <td>5255</td>\n",
       "      <td>TGI Fridays Ultimte Mudslide</td>\n",
       "      <td>1.75L</td>\n",
       "      <td>4466</td>\n",
       "      <td>AMERICAN VINTAGE BEVERAGE</td>\n",
       "      <td>8137</td>\n",
       "      <td>2015-12-22</td>\n",
       "      <td>2016-01-01</td>\n",
       "      <td>2016-01-07</td>\n",
       "      <td>2016-02-21</td>\n",
       "      <td>9.35</td>\n",
       "      <td>4</td>\n",
       "      <td>37.40</td>\n",
       "      <td>1</td>\n",
       "    </tr>\n",
       "    <tr>\n",
       "      <th>2</th>\n",
       "      <td>34_PITMERDEN_5215</td>\n",
       "      <td>34</td>\n",
       "      <td>5215</td>\n",
       "      <td>TGI Fridays Long Island Iced</td>\n",
       "      <td>1.75L</td>\n",
       "      <td>4466</td>\n",
       "      <td>AMERICAN VINTAGE BEVERAGE</td>\n",
       "      <td>8137</td>\n",
       "      <td>2015-12-22</td>\n",
       "      <td>2016-01-02</td>\n",
       "      <td>2016-01-07</td>\n",
       "      <td>2016-02-21</td>\n",
       "      <td>9.41</td>\n",
       "      <td>5</td>\n",
       "      <td>47.05</td>\n",
       "      <td>1</td>\n",
       "    </tr>\n",
       "    <tr>\n",
       "      <th>3</th>\n",
       "      <td>1_HARDERSFIELD_5255</td>\n",
       "      <td>1</td>\n",
       "      <td>5255</td>\n",
       "      <td>TGI Fridays Ultimte Mudslide</td>\n",
       "      <td>1.75L</td>\n",
       "      <td>4466</td>\n",
       "      <td>AMERICAN VINTAGE BEVERAGE</td>\n",
       "      <td>8137</td>\n",
       "      <td>2015-12-22</td>\n",
       "      <td>2016-01-01</td>\n",
       "      <td>2016-01-07</td>\n",
       "      <td>2016-02-21</td>\n",
       "      <td>9.35</td>\n",
       "      <td>6</td>\n",
       "      <td>56.10</td>\n",
       "      <td>1</td>\n",
       "    </tr>\n",
       "    <tr>\n",
       "      <th>4</th>\n",
       "      <td>76_DONCASTER_2034</td>\n",
       "      <td>76</td>\n",
       "      <td>2034</td>\n",
       "      <td>Glendalough Double Barrel</td>\n",
       "      <td>750mL</td>\n",
       "      <td>388</td>\n",
       "      <td>ATLANTIC IMPORTING COMPANY</td>\n",
       "      <td>8169</td>\n",
       "      <td>2015-12-24</td>\n",
       "      <td>2016-01-02</td>\n",
       "      <td>2016-01-09</td>\n",
       "      <td>2016-02-16</td>\n",
       "      <td>21.32</td>\n",
       "      <td>5</td>\n",
       "      <td>106.60</td>\n",
       "      <td>1</td>\n",
       "    </tr>\n",
       "  </tbody>\n",
       "</table>\n",
       "</div>"
      ],
      "text/plain": [
       "           InventoryId  Store  Brand                   Description   Size  \\\n",
       "0    69_MOUNTMEND_8412     69   8412     Tequila Ocho Plata Fresno  750mL   \n",
       "1     30_CULCHETH_5255     30   5255  TGI Fridays Ultimte Mudslide  1.75L   \n",
       "2    34_PITMERDEN_5215     34   5215  TGI Fridays Long Island Iced  1.75L   \n",
       "3  1_HARDERSFIELD_5255      1   5255  TGI Fridays Ultimte Mudslide  1.75L   \n",
       "4    76_DONCASTER_2034     76   2034     Glendalough Double Barrel  750mL   \n",
       "\n",
       "   VendorNumber                   VendorName  PONumber      PODate  \\\n",
       "0           105  ALTAMAR BRANDS LLC               8124  2015-12-21   \n",
       "1          4466  AMERICAN VINTAGE BEVERAGE        8137  2015-12-22   \n",
       "2          4466  AMERICAN VINTAGE BEVERAGE        8137  2015-12-22   \n",
       "3          4466  AMERICAN VINTAGE BEVERAGE        8137  2015-12-22   \n",
       "4           388  ATLANTIC IMPORTING COMPANY       8169  2015-12-24   \n",
       "\n",
       "  ReceivingDate InvoiceDate     PayDate  PurchasePrice  Quantity  Dollars  \\\n",
       "0    2016-01-02  2016-01-04  2016-02-16          35.71         6   214.26   \n",
       "1    2016-01-01  2016-01-07  2016-02-21           9.35         4    37.40   \n",
       "2    2016-01-02  2016-01-07  2016-02-21           9.41         5    47.05   \n",
       "3    2016-01-01  2016-01-07  2016-02-21           9.35         6    56.10   \n",
       "4    2016-01-02  2016-01-09  2016-02-16          21.32         5   106.60   \n",
       "\n",
       "   Classification  \n",
       "0               1  \n",
       "1               1  \n",
       "2               1  \n",
       "3               1  \n",
       "4               1  "
      ]
     },
     "execution_count": 559,
     "metadata": {},
     "output_type": "execute_result"
    }
   ],
   "source": [
    "purchases = pd.read_csv('Purchases.csv')\n",
    "purchases.head()"
   ]
  },
  {
   "cell_type": "code",
   "execution_count": 560,
   "metadata": {},
   "outputs": [
    {
     "name": "stdout",
     "output_type": "stream",
     "text": [
      "Tipos de datos iniciales:\n",
      "<class 'pandas.core.frame.DataFrame'>\n",
      "RangeIndex: 2372474 entries, 0 to 2372473\n",
      "Data columns (total 16 columns):\n",
      " #   Column          Dtype  \n",
      "---  ------          -----  \n",
      " 0   InventoryId     object \n",
      " 1   Store           int64  \n",
      " 2   Brand           int64  \n",
      " 3   Description     object \n",
      " 4   Size            object \n",
      " 5   VendorNumber    int64  \n",
      " 6   VendorName      object \n",
      " 7   PONumber        int64  \n",
      " 8   PODate          object \n",
      " 9   ReceivingDate   object \n",
      " 10  InvoiceDate     object \n",
      " 11  PayDate         object \n",
      " 12  PurchasePrice   float64\n",
      " 13  Quantity        int64  \n",
      " 14  Dollars         float64\n",
      " 15  Classification  int64  \n",
      "dtypes: float64(2), int64(6), object(8)\n",
      "memory usage: 289.6+ MB\n",
      "None\n"
     ]
    }
   ],
   "source": [
    "print(\"Tipos de datos iniciales:\")\n",
    "print(purchases.info())\n"
   ]
  },
  {
   "cell_type": "markdown",
   "metadata": {},
   "source": [
    "#### Corregir tipo de datos"
   ]
  },
  {
   "cell_type": "code",
   "execution_count": 561,
   "metadata": {},
   "outputs": [
    {
     "name": "stdout",
     "output_type": "stream",
     "text": [
      "Tipos de datos después de la conversión:\n",
      "InventoryId       string[python]\n",
      "Store                      int64\n",
      "Brand                      int64\n",
      "Description       string[python]\n",
      "Size              string[python]\n",
      "VendorNumber               int64\n",
      "VendorName        string[python]\n",
      "PONumber                   int64\n",
      "PODate            datetime64[ns]\n",
      "ReceivingDate     datetime64[ns]\n",
      "InvoiceDate       datetime64[ns]\n",
      "PayDate           datetime64[ns]\n",
      "PurchasePrice            float64\n",
      "Quantity                   int64\n",
      "Dollars                  float64\n",
      "Classification             int64\n",
      "dtype: object\n"
     ]
    }
   ],
   "source": [
    "# Convertir columnas de tipo object a string\n",
    "object_columns = purchases.select_dtypes(include=['object']).columns\n",
    "purchases[object_columns] = purchases[object_columns].astype('string')\n",
    "\n",
    "# Convertir las columnas de fechas a datetime\n",
    "date_columns = ['PODate', 'ReceivingDate', 'InvoiceDate', 'PayDate']\n",
    "for col in date_columns:\n",
    "    purchases[col] = pd.to_datetime(purchases[col], errors='coerce')  # Manejar errores con 'coerce'\n",
    "\n",
    "# Verificar los cambios\n",
    "print(\"Tipos de datos después de la conversión:\")\n",
    "print(purchases.dtypes)\n"
   ]
  },
  {
   "cell_type": "code",
   "execution_count": 562,
   "metadata": {},
   "outputs": [
    {
     "name": "stdout",
     "output_type": "stream",
     "text": [
      "Primeras filas después de limpiar las columnas string:\n",
      "           InventoryId  Store  Brand                   Description   Size  \\\n",
      "0    69_mountmend_8412     69   8412     tequila ocho plata fresno  750ml   \n",
      "1     30_culcheth_5255     30   5255  tgi fridays ultimte mudslide  1.75l   \n",
      "2    34_pitmerden_5215     34   5215  tgi fridays long island iced  1.75l   \n",
      "3  1_hardersfield_5255      1   5255  tgi fridays ultimte mudslide  1.75l   \n",
      "4    76_doncaster_2034     76   2034     glendalough double barrel  750ml   \n",
      "\n",
      "   VendorNumber                  VendorName  PONumber     PODate  \\\n",
      "0           105          altamar brands llc      8124 2015-12-21   \n",
      "1          4466   american vintage beverage      8137 2015-12-22   \n",
      "2          4466   american vintage beverage      8137 2015-12-22   \n",
      "3          4466   american vintage beverage      8137 2015-12-22   \n",
      "4           388  atlantic importing company      8169 2015-12-24   \n",
      "\n",
      "  ReceivingDate InvoiceDate    PayDate  PurchasePrice  Quantity  Dollars  \\\n",
      "0    2016-01-02  2016-01-04 2016-02-16          35.71         6   214.26   \n",
      "1    2016-01-01  2016-01-07 2016-02-21           9.35         4    37.40   \n",
      "2    2016-01-02  2016-01-07 2016-02-21           9.41         5    47.05   \n",
      "3    2016-01-01  2016-01-07 2016-02-21           9.35         6    56.10   \n",
      "4    2016-01-02  2016-01-09 2016-02-16          21.32         5   106.60   \n",
      "\n",
      "   Classification  \n",
      "0               1  \n",
      "1               1  \n",
      "2               1  \n",
      "3               1  \n",
      "4               1  \n",
      "Tipos de datos después de la limpieza:\n",
      "InventoryId               object\n",
      "Store                      int64\n",
      "Brand                      int64\n",
      "Description               object\n",
      "Size                      object\n",
      "VendorNumber               int64\n",
      "VendorName                object\n",
      "PONumber                   int64\n",
      "PODate            datetime64[ns]\n",
      "ReceivingDate     datetime64[ns]\n",
      "InvoiceDate       datetime64[ns]\n",
      "PayDate           datetime64[ns]\n",
      "PurchasePrice            float64\n",
      "Quantity                   int64\n",
      "Dollars                  float64\n",
      "Classification             int64\n",
      "dtype: object\n"
     ]
    }
   ],
   "source": [
    "# Función para limpiar cadenas de texto\n",
    "def clean_string(s):\n",
    "    if pd.isnull(s):  # Si es nulo, lo devuelve tal cual\n",
    "        return s\n",
    "    # Eliminar acentos y normalizar el texto\n",
    "    s = unicodedata.normalize('NFKD', s).encode('ascii', 'ignore').decode('utf-8')\n",
    "    # Convertir a minúsculas, quitar espacios al inicio/final y reemplazar múltiples espacios\n",
    "    return ' '.join(s.strip().lower().split())\n",
    "\n",
    "# Seleccionar columnas de tipo string\n",
    "string_columns = purchases.select_dtypes(include=['string']).columns\n",
    "\n",
    "# Aplicar la limpieza a las columnas string\n",
    "for col in string_columns:\n",
    "    purchases[col] = purchases[col].apply(clean_string)\n",
    "\n",
    "# Verificar los resultados\n",
    "print(\"Primeras filas después de limpiar las columnas string:\")\n",
    "print(purchases.head())\n",
    "\n",
    "# Verificar los tipos de datos\n",
    "print(\"Tipos de datos después de la limpieza:\")\n",
    "print(purchases.dtypes)\n"
   ]
  },
  {
   "cell_type": "markdown",
   "metadata": {},
   "source": [
    "#### Analisis de nulos"
   ]
  },
  {
   "cell_type": "code",
   "execution_count": 566,
   "metadata": {},
   "outputs": [
    {
     "name": "stdout",
     "output_type": "stream",
     "text": [
      "Valores nulos por columna:\n",
      "InventoryId       0\n",
      "Store             0\n",
      "Brand             0\n",
      "Description       0\n",
      "Size              0\n",
      "VendorNumber      0\n",
      "VendorName        0\n",
      "PONumber          0\n",
      "PODate            0\n",
      "ReceivingDate     0\n",
      "InvoiceDate       0\n",
      "PayDate           0\n",
      "PurchasePrice     0\n",
      "Quantity          0\n",
      "Dollars           0\n",
      "Classification    0\n",
      "dtype: int64\n"
     ]
    }
   ],
   "source": [
    "print(\"Valores nulos por columna:\")\n",
    "print(purchases.isnull().sum())\n"
   ]
  },
  {
   "cell_type": "code",
   "execution_count": 564,
   "metadata": {},
   "outputs": [],
   "source": [
    "purchases = purchases.dropna(subset=['Size'])\n"
   ]
  },
  {
   "cell_type": "markdown",
   "metadata": {},
   "source": [
    "#### Analisis de duplicados"
   ]
  },
  {
   "cell_type": "code",
   "execution_count": 565,
   "metadata": {},
   "outputs": [
    {
     "name": "stdout",
     "output_type": "stream",
     "text": [
      "Duplicados detectados:\n",
      "0\n"
     ]
    }
   ],
   "source": [
    "print(\"Duplicados detectados:\")\n",
    "print(purchases.duplicated().sum())\n"
   ]
  },
  {
   "cell_type": "markdown",
   "metadata": {},
   "source": [
    "#### Validar consistencia de fechas"
   ]
  },
  {
   "cell_type": "code",
   "execution_count": 567,
   "metadata": {},
   "outputs": [
    {
     "name": "stdout",
     "output_type": "stream",
     "text": [
      "Fechas inconsistentes detectadas:\n",
      "Empty DataFrame\n",
      "Columns: [InventoryId, Store, Brand, Description, Size, VendorNumber, VendorName, PONumber, PODate, ReceivingDate, InvoiceDate, PayDate, PurchasePrice, Quantity, Dollars, Classification]\n",
      "Index: []\n"
     ]
    }
   ],
   "source": [
    "# Revisar si las fechas tienen inconsistencias lógicas\n",
    "inconsistent_dates = purchases[(purchases['PODate'] > purchases['InvoiceDate']) | \n",
    "                                (purchases['InvoiceDate'] > purchases['PayDate'])]\n",
    "print(\"Fechas inconsistentes detectadas:\")\n",
    "print(inconsistent_dates)"
   ]
  },
  {
   "cell_type": "code",
   "execution_count": 568,
   "metadata": {},
   "outputs": [
    {
     "name": "stdout",
     "output_type": "stream",
     "text": [
      "Filas con valores negativos en Quantity:\n",
      "Empty DataFrame\n",
      "Columns: [InventoryId, Store, Brand, Description, Size, VendorNumber, VendorName, PONumber, PODate, ReceivingDate, InvoiceDate, PayDate, PurchasePrice, Quantity, Dollars, Classification]\n",
      "Index: []\n",
      "Filas con valores negativos en Dollars:\n",
      "Empty DataFrame\n",
      "Columns: [InventoryId, Store, Brand, Description, Size, VendorNumber, VendorName, PONumber, PODate, ReceivingDate, InvoiceDate, PayDate, PurchasePrice, Quantity, Dollars, Classification]\n",
      "Index: []\n"
     ]
    }
   ],
   "source": [
    "# #### Buscar valores fuera de rango\n",
    "\n",
    "print(\"Filas con valores negativos en Quantity:\")\n",
    "print(purchases[purchases['Quantity'] < 0])\n",
    "\n",
    "# %%\n",
    "print(\"Filas con valores negativos en Dollars:\")\n",
    "print(purchases[(purchases['Dollars'] < 0)])\n"
   ]
  },
  {
   "cell_type": "markdown",
   "metadata": {},
   "source": [
    "#### Verificar si VendorNumber en purchases está en purchase_prices\n"
   ]
  },
  {
   "cell_type": "code",
   "execution_count": 569,
   "metadata": {},
   "outputs": [],
   "source": [
    "valid_vendors = purchases['VendorNumber'].isin(purchasePrices['VendorNumber'])\n"
   ]
  },
  {
   "cell_type": "code",
   "execution_count": 570,
   "metadata": {},
   "outputs": [
    {
     "name": "stdout",
     "output_type": "stream",
     "text": [
      "Registros inconsistentes: 1\n",
      "                 InventoryId  Store  Brand                   Description  \\\n",
      "1659444  67_eanverness_90609     67  90609  flavor essence variety 5 pak   \n",
      "\n",
      "           Size  VendorNumber          VendorName  PONumber     PODate  \\\n",
      "1659444  5/2 oz        201359  flavor essence inc     12061 2016-09-12   \n",
      "\n",
      "        ReceivingDate InvoiceDate    PayDate  PurchasePrice  Quantity  \\\n",
      "1659444    2016-09-25  2016-10-04 2016-11-11           17.0         1   \n",
      "\n",
      "         Dollars  Classification  \n",
      "1659444     17.0               2  \n"
     ]
    }
   ],
   "source": [
    "# Filtrar registros inconsistentes\n",
    "inconsistent_vendors = purchases[~valid_vendors]\n",
    "print(f\"Registros inconsistentes: {len(inconsistent_vendors)}\")\n",
    "print(inconsistent_vendors)"
   ]
  },
  {
   "cell_type": "code",
   "execution_count": 571,
   "metadata": {},
   "outputs": [
    {
     "name": "stdout",
     "output_type": "stream",
     "text": [
      "\n",
      "Registro inconsistente encontrado:\n",
      "                 InventoryId  Store  Brand                   Description  \\\n",
      "631124   67_eanverness_90609     67  90609  flavor essence variety 5 pak   \n",
      "1659444  67_eanverness_90609     67  90609  flavor essence variety 5 pak   \n",
      "\n",
      "           Size  VendorNumber                     VendorName  PONumber  \\\n",
      "631124   5/2 oz             2  ira goldman and williams, llp      9855   \n",
      "1659444  5/2 oz        201359             flavor essence inc     12061   \n",
      "\n",
      "            PODate ReceivingDate InvoiceDate    PayDate  PurchasePrice  \\\n",
      "631124  2016-04-19    2016-04-29  2016-05-09 2016-06-08           17.0   \n",
      "1659444 2016-09-12    2016-09-25  2016-10-04 2016-11-11           17.0   \n",
      "\n",
      "         Quantity  Dollars  Classification  \n",
      "631124         32    544.0               2  \n",
      "1659444         1     17.0               2  \n",
      "\n",
      "Registros restantes después de eliminar el inconsistente:\n",
      "Empty DataFrame\n",
      "Columns: [InventoryId, Store, Brand, Description, Size, VendorNumber, VendorName, PONumber, PODate, ReceivingDate, InvoiceDate, PayDate, PurchasePrice, Quantity, Dollars, Classification]\n",
      "Index: []\n"
     ]
    }
   ],
   "source": [
    "# Verificar el registro inconsistente antes de eliminarlo\n",
    "registro_inconsistente = purchases[purchases['InventoryId'] == '67_eanverness_90609']\n",
    "print(\"\\nRegistro inconsistente encontrado:\")\n",
    "print(registro_inconsistente)\n",
    "\n",
    "# Eliminar el registro inconsistente\n",
    "purchases_cleaned = purchases[purchases['InventoryId'] != '67_eanverness_90609']\n",
    "\n",
    "# Verificar que el registro fue eliminado\n",
    "print(\"\\nRegistros restantes después de eliminar el inconsistente:\")\n",
    "print(purchases_cleaned[purchases_cleaned['InventoryId'] == '67_eanverness_90609'])\n",
    "\n",
    "# Guardar la tabla limpia\n",
    "purchases_cleaned.to_csv('Purchases', index=False)\n",
    "\n"
   ]
  },
  {
   "cell_type": "markdown",
   "metadata": {},
   "source": [
    "NO SE DE DONDE SALE"
   ]
  },
  {
   "cell_type": "code",
   "execution_count": 577,
   "metadata": {},
   "outputs": [
    {
     "name": "stdout",
     "output_type": "stream",
     "text": [
      "Primeras filas del DataFrame después de procesar la columna 'Size':\n",
      "    Size  size_ml  pack_count\n",
      "0  750ml    750.0           1\n",
      "1  1.75l   1750.0           1\n",
      "2  1.75l   1750.0           1\n",
      "3  1.75l   1750.0           1\n",
      "4  750ml    750.0           1\n",
      "5  1.75l   1750.0           1\n",
      "6  750ml    750.0           1\n",
      "7  200ml    200.0           1\n",
      "8  750ml    750.0           1\n",
      "9  1.75l   1750.0           1\n",
      "Valores nulos en las columnas derivadas:\n",
      "size_ml       0\n",
      "pack_count    0\n",
      "dtype: int64\n",
      "Valores problemáticos restantes en la columna 'Size':\n",
      "[]\n"
     ]
    }
   ],
   "source": [
    "# Función actualizada para procesar la columna 'Size'\n",
    "def parse_size(size):\n",
    "    if pd.isnull(size):  # Verificar si el valor es nulo\n",
    "        return {\"size_ml\": np.nan, \"pack_count\": np.nan}  # Retorna valores nulos si el campo es vacío\n",
    "\n",
    "    size = size.strip().lower()  # Elimina espacios al principio/final y convierte a minúsculas\n",
    "\n",
    "    # Manejar paquetes, como \"100mL 4 Pk\"\n",
    "    match = re.match(r\"(\\d+(?:\\.\\d+)?)(ml|l) (\\d+) pk\", size)\n",
    "    if match:\n",
    "        unit_size = float(match.group(1))  # Tamaño individual\n",
    "        if match.group(2) == 'l':  # Convertir litros a mililitros\n",
    "            unit_size *= 1000\n",
    "        pack_count = int(match.group(3))  # Número de botellas en el paquete\n",
    "        return {\"size_ml\": unit_size, \"pack_count\": pack_count}\n",
    "\n",
    "    # Manejar tamaños con adicionales, como \"750mL + 3/\"\n",
    "    match = re.match(r\"(\\d+(?:\\.\\d+)?)(ml|l)(?: \\+ (\\d+)/)?\", size)\n",
    "    if match:\n",
    "        unit_size = float(match.group(1))  # Tamaño individual\n",
    "        if match.group(2) == 'l':  # Convertir litros a mililitros\n",
    "            unit_size *= 1000\n",
    "        additional_count = int(match.group(3)) if match.group(3) else 0  # Ítems adicionales\n",
    "        return {\"size_ml\": unit_size, \"pack_count\": 1 + additional_count}\n",
    "\n",
    "    # Manejar tamaños con número adicional separado por espacios, como \"750mL  3\"\n",
    "    match = re.match(r\"(\\d+(?:\\.\\d+)?)(ml|l)\\s+(\\d+)\", size)\n",
    "    if match:\n",
    "        unit_size = float(match.group(1))  # Tamaño individual\n",
    "        if match.group(2) == 'l':  # Convertir litros a mililitros\n",
    "            unit_size *= 1000\n",
    "        pack_count = int(match.group(3))  # Número adicional\n",
    "        return {\"size_ml\": unit_size, \"pack_count\": pack_count}\n",
    "\n",
    "    # Manejar tamaños individuales, como \"750mL\" o \"162.5mL\"\n",
    "    match = re.match(r\"(\\d+(?:\\.\\d+)?)(ml|l)\", size)\n",
    "    if match:\n",
    "        unit_size = float(match.group(1))  # Tamaño individual\n",
    "        if match.group(2) == 'l':  # Convertir litros a mililitros\n",
    "            unit_size *= 1000\n",
    "        return {\"size_ml\": unit_size, \"pack_count\": 1}\n",
    "\n",
    "    # Manejar otros formatos como onzas u otros\n",
    "    match = re.match(r\"(\\d+(?:\\.\\d+)?)\\s?(oz|gal)\", size)\n",
    "    if match:\n",
    "        unit_size = float(match.group(1))\n",
    "        if match.group(2) == 'oz':  # Convertir onzas a mililitros\n",
    "            unit_size *= 29.5735\n",
    "        elif match.group(2) == 'gal':  # Convertir galones a mililitros\n",
    "            unit_size *= 3785.41\n",
    "        return {\"size_ml\": unit_size, \"pack_count\": 1}\n",
    "\n",
    "    # Casos específicos problemáticos\n",
    "    if size == 'liter':\n",
    "        return {\"size_ml\": 1000.0, \"pack_count\": 1}  # Interpretar \"liter\" como 1000ml\n",
    "    if size == '3/100ml':\n",
    "        return {\"size_ml\": 100.0, \"pack_count\": 3}  # Interpretar \"3/100ml\" como 3 paquetes de 100ml\n",
    "    if size == '5/2 oz':\n",
    "        return {\"size_ml\": 59.147 * 5, \"pack_count\": 1}  # Convertir 5 porciones de 2oz a ml\n",
    "    if size == '25.0':\n",
    "        return {\"size_ml\": 25.0, \"pack_count\": 1}  # Interpretar \"25.0\" como 25ml\n",
    "\n",
    "    # Retornar valores nulos si el tamaño no coincide con ningún patrón conocido\n",
    "    return {\"size_ml\": np.nan, \"pack_count\": np.nan}\n",
    "\n",
    "# Reaplicar la función parse_size a la columna 'Size'\n",
    "size_data = purchases['Size'].apply(parse_size)\n",
    "\n",
    "# Crear nuevas columnas en el DataFrame\n",
    "purchases['size_ml'] = size_data.apply(lambda x: x['size_ml'])\n",
    "purchases['pack_count'] = size_data.apply(lambda x: x['pack_count'])\n",
    "\n",
    "# Verificar las primeras filas para confirmar resultados\n",
    "print(\"Primeras filas del DataFrame después de procesar la columna 'Size':\")\n",
    "print(purchases[['Size', 'size_ml', 'pack_count']].head(10))\n",
    "\n",
    "# Contar valores nulos para evaluar el éxito del procesamiento\n",
    "print(\"Valores nulos en las columnas derivadas:\")\n",
    "print(purchases[['size_ml', 'pack_count']].isnull().sum())\n",
    "\n",
    "# Identificar valores problemáticos restantes\n",
    "problematic_rows = purchases[purchases['size_ml'].isnull()]\n",
    "print(\"Valores problemáticos restantes en la columna 'Size':\")\n",
    "print(problematic_rows['Size'].unique())\n"
   ]
  },
  {
   "cell_type": "code",
   "execution_count": 578,
   "metadata": {},
   "outputs": [
    {
     "data": {
      "text/html": [
       "<div>\n",
       "<style scoped>\n",
       "    .dataframe tbody tr th:only-of-type {\n",
       "        vertical-align: middle;\n",
       "    }\n",
       "\n",
       "    .dataframe tbody tr th {\n",
       "        vertical-align: top;\n",
       "    }\n",
       "\n",
       "    .dataframe thead th {\n",
       "        text-align: right;\n",
       "    }\n",
       "</style>\n",
       "<table border=\"1\" class=\"dataframe\">\n",
       "  <thead>\n",
       "    <tr style=\"text-align: right;\">\n",
       "      <th></th>\n",
       "      <th>InventoryId</th>\n",
       "      <th>Store</th>\n",
       "      <th>Brand</th>\n",
       "      <th>Description</th>\n",
       "      <th>Size</th>\n",
       "      <th>VendorNumber</th>\n",
       "      <th>VendorName</th>\n",
       "      <th>PONumber</th>\n",
       "      <th>PODate</th>\n",
       "      <th>ReceivingDate</th>\n",
       "      <th>InvoiceDate</th>\n",
       "      <th>PayDate</th>\n",
       "      <th>PurchasePrice</th>\n",
       "      <th>Quantity</th>\n",
       "      <th>Dollars</th>\n",
       "      <th>Classification</th>\n",
       "      <th>size_ml</th>\n",
       "      <th>pack_count</th>\n",
       "    </tr>\n",
       "  </thead>\n",
       "  <tbody>\n",
       "    <tr>\n",
       "      <th>0</th>\n",
       "      <td>69_mountmend_8412</td>\n",
       "      <td>69</td>\n",
       "      <td>8412</td>\n",
       "      <td>tequila ocho plata fresno</td>\n",
       "      <td>750ml</td>\n",
       "      <td>105</td>\n",
       "      <td>altamar brands llc</td>\n",
       "      <td>8124</td>\n",
       "      <td>2015-12-21</td>\n",
       "      <td>2016-01-02</td>\n",
       "      <td>2016-01-04</td>\n",
       "      <td>2016-02-16</td>\n",
       "      <td>35.71</td>\n",
       "      <td>6</td>\n",
       "      <td>214.26</td>\n",
       "      <td>1</td>\n",
       "      <td>750.0</td>\n",
       "      <td>1</td>\n",
       "    </tr>\n",
       "    <tr>\n",
       "      <th>1</th>\n",
       "      <td>30_culcheth_5255</td>\n",
       "      <td>30</td>\n",
       "      <td>5255</td>\n",
       "      <td>tgi fridays ultimte mudslide</td>\n",
       "      <td>1.75l</td>\n",
       "      <td>4466</td>\n",
       "      <td>american vintage beverage</td>\n",
       "      <td>8137</td>\n",
       "      <td>2015-12-22</td>\n",
       "      <td>2016-01-01</td>\n",
       "      <td>2016-01-07</td>\n",
       "      <td>2016-02-21</td>\n",
       "      <td>9.35</td>\n",
       "      <td>4</td>\n",
       "      <td>37.40</td>\n",
       "      <td>1</td>\n",
       "      <td>1750.0</td>\n",
       "      <td>1</td>\n",
       "    </tr>\n",
       "    <tr>\n",
       "      <th>2</th>\n",
       "      <td>34_pitmerden_5215</td>\n",
       "      <td>34</td>\n",
       "      <td>5215</td>\n",
       "      <td>tgi fridays long island iced</td>\n",
       "      <td>1.75l</td>\n",
       "      <td>4466</td>\n",
       "      <td>american vintage beverage</td>\n",
       "      <td>8137</td>\n",
       "      <td>2015-12-22</td>\n",
       "      <td>2016-01-02</td>\n",
       "      <td>2016-01-07</td>\n",
       "      <td>2016-02-21</td>\n",
       "      <td>9.41</td>\n",
       "      <td>5</td>\n",
       "      <td>47.05</td>\n",
       "      <td>1</td>\n",
       "      <td>1750.0</td>\n",
       "      <td>1</td>\n",
       "    </tr>\n",
       "    <tr>\n",
       "      <th>3</th>\n",
       "      <td>1_hardersfield_5255</td>\n",
       "      <td>1</td>\n",
       "      <td>5255</td>\n",
       "      <td>tgi fridays ultimte mudslide</td>\n",
       "      <td>1.75l</td>\n",
       "      <td>4466</td>\n",
       "      <td>american vintage beverage</td>\n",
       "      <td>8137</td>\n",
       "      <td>2015-12-22</td>\n",
       "      <td>2016-01-01</td>\n",
       "      <td>2016-01-07</td>\n",
       "      <td>2016-02-21</td>\n",
       "      <td>9.35</td>\n",
       "      <td>6</td>\n",
       "      <td>56.10</td>\n",
       "      <td>1</td>\n",
       "      <td>1750.0</td>\n",
       "      <td>1</td>\n",
       "    </tr>\n",
       "    <tr>\n",
       "      <th>4</th>\n",
       "      <td>76_doncaster_2034</td>\n",
       "      <td>76</td>\n",
       "      <td>2034</td>\n",
       "      <td>glendalough double barrel</td>\n",
       "      <td>750ml</td>\n",
       "      <td>388</td>\n",
       "      <td>atlantic importing company</td>\n",
       "      <td>8169</td>\n",
       "      <td>2015-12-24</td>\n",
       "      <td>2016-01-02</td>\n",
       "      <td>2016-01-09</td>\n",
       "      <td>2016-02-16</td>\n",
       "      <td>21.32</td>\n",
       "      <td>5</td>\n",
       "      <td>106.60</td>\n",
       "      <td>1</td>\n",
       "      <td>750.0</td>\n",
       "      <td>1</td>\n",
       "    </tr>\n",
       "  </tbody>\n",
       "</table>\n",
       "</div>"
      ],
      "text/plain": [
       "           InventoryId  Store  Brand                   Description   Size  \\\n",
       "0    69_mountmend_8412     69   8412     tequila ocho plata fresno  750ml   \n",
       "1     30_culcheth_5255     30   5255  tgi fridays ultimte mudslide  1.75l   \n",
       "2    34_pitmerden_5215     34   5215  tgi fridays long island iced  1.75l   \n",
       "3  1_hardersfield_5255      1   5255  tgi fridays ultimte mudslide  1.75l   \n",
       "4    76_doncaster_2034     76   2034     glendalough double barrel  750ml   \n",
       "\n",
       "   VendorNumber                  VendorName  PONumber     PODate  \\\n",
       "0           105          altamar brands llc      8124 2015-12-21   \n",
       "1          4466   american vintage beverage      8137 2015-12-22   \n",
       "2          4466   american vintage beverage      8137 2015-12-22   \n",
       "3          4466   american vintage beverage      8137 2015-12-22   \n",
       "4           388  atlantic importing company      8169 2015-12-24   \n",
       "\n",
       "  ReceivingDate InvoiceDate    PayDate  PurchasePrice  Quantity  Dollars  \\\n",
       "0    2016-01-02  2016-01-04 2016-02-16          35.71         6   214.26   \n",
       "1    2016-01-01  2016-01-07 2016-02-21           9.35         4    37.40   \n",
       "2    2016-01-02  2016-01-07 2016-02-21           9.41         5    47.05   \n",
       "3    2016-01-01  2016-01-07 2016-02-21           9.35         6    56.10   \n",
       "4    2016-01-02  2016-01-09 2016-02-16          21.32         5   106.60   \n",
       "\n",
       "   Classification  size_ml  pack_count  \n",
       "0               1    750.0           1  \n",
       "1               1   1750.0           1  \n",
       "2               1   1750.0           1  \n",
       "3               1   1750.0           1  \n",
       "4               1    750.0           1  "
      ]
     },
     "execution_count": 578,
     "metadata": {},
     "output_type": "execute_result"
    }
   ],
   "source": [
    "purchases.head()"
   ]
  },
  {
   "cell_type": "code",
   "execution_count": 579,
   "metadata": {},
   "outputs": [
    {
     "name": "stdout",
     "output_type": "stream",
     "text": [
      "                      PurchaseID          InventoryId  VendorNumber  PONumber\n",
      "0     69_mountmend_8412_105_8124    69_mountmend_8412           105      8124\n",
      "1     30_culcheth_5255_4466_8137     30_culcheth_5255          4466      8137\n",
      "2    34_pitmerden_5215_4466_8137    34_pitmerden_5215          4466      8137\n",
      "3  1_hardersfield_5255_4466_8137  1_hardersfield_5255          4466      8137\n",
      "4     76_doncaster_2034_388_8169    76_doncaster_2034           388      8169\n"
     ]
    }
   ],
   "source": [
    "# Crear PurchaseID basado en columnas clave\n",
    "purchases['PurchaseID'] = purchases['InventoryId'] + '_' + purchases['VendorNumber'].astype(str) + '_' + purchases['PONumber'].astype(str)\n",
    "\n",
    "# Verificar el resultado\n",
    "print(purchases[['PurchaseID', 'InventoryId', 'VendorNumber', 'PONumber']].head())\n"
   ]
  },
  {
   "cell_type": "code",
   "execution_count": 580,
   "metadata": {},
   "outputs": [
    {
     "name": "stdout",
     "output_type": "stream",
     "text": [
      "                                       InventoryId  Store  Brand  \\\n",
      "PurchaseID                                                         \n",
      "69_mountmend_8412_105_8124       69_mountmend_8412     69   8412   \n",
      "30_culcheth_5255_4466_8137        30_culcheth_5255     30   5255   \n",
      "34_pitmerden_5215_4466_8137      34_pitmerden_5215     34   5215   \n",
      "1_hardersfield_5255_4466_8137  1_hardersfield_5255      1   5255   \n",
      "76_doncaster_2034_388_8169       76_doncaster_2034     76   2034   \n",
      "\n",
      "                                                Description   Size  \\\n",
      "PurchaseID                                                           \n",
      "69_mountmend_8412_105_8124        tequila ocho plata fresno  750ml   \n",
      "30_culcheth_5255_4466_8137     tgi fridays ultimte mudslide  1.75l   \n",
      "34_pitmerden_5215_4466_8137    tgi fridays long island iced  1.75l   \n",
      "1_hardersfield_5255_4466_8137  tgi fridays ultimte mudslide  1.75l   \n",
      "76_doncaster_2034_388_8169        glendalough double barrel  750ml   \n",
      "\n",
      "                               VendorNumber                  VendorName  \\\n",
      "PurchaseID                                                                \n",
      "69_mountmend_8412_105_8124              105          altamar brands llc   \n",
      "30_culcheth_5255_4466_8137             4466   american vintage beverage   \n",
      "34_pitmerden_5215_4466_8137            4466   american vintage beverage   \n",
      "1_hardersfield_5255_4466_8137          4466   american vintage beverage   \n",
      "76_doncaster_2034_388_8169              388  atlantic importing company   \n",
      "\n",
      "                               PONumber     PODate ReceivingDate InvoiceDate  \\\n",
      "PurchaseID                                                                     \n",
      "69_mountmend_8412_105_8124         8124 2015-12-21    2016-01-02  2016-01-04   \n",
      "30_culcheth_5255_4466_8137         8137 2015-12-22    2016-01-01  2016-01-07   \n",
      "34_pitmerden_5215_4466_8137        8137 2015-12-22    2016-01-02  2016-01-07   \n",
      "1_hardersfield_5255_4466_8137      8137 2015-12-22    2016-01-01  2016-01-07   \n",
      "76_doncaster_2034_388_8169         8169 2015-12-24    2016-01-02  2016-01-09   \n",
      "\n",
      "                                 PayDate  PurchasePrice  Quantity  Dollars  \\\n",
      "PurchaseID                                                                   \n",
      "69_mountmend_8412_105_8124    2016-02-16          35.71         6   214.26   \n",
      "30_culcheth_5255_4466_8137    2016-02-21           9.35         4    37.40   \n",
      "34_pitmerden_5215_4466_8137   2016-02-21           9.41         5    47.05   \n",
      "1_hardersfield_5255_4466_8137 2016-02-21           9.35         6    56.10   \n",
      "76_doncaster_2034_388_8169    2016-02-16          21.32         5   106.60   \n",
      "\n",
      "                               Classification  size_ml  pack_count  \n",
      "PurchaseID                                                          \n",
      "69_mountmend_8412_105_8124                  1    750.0           1  \n",
      "30_culcheth_5255_4466_8137                  1   1750.0           1  \n",
      "34_pitmerden_5215_4466_8137                 1   1750.0           1  \n",
      "1_hardersfield_5255_4466_8137               1   1750.0           1  \n",
      "76_doncaster_2034_388_8169                  1    750.0           1  \n"
     ]
    }
   ],
   "source": [
    "# Establecer PurchaseID como índice\n",
    "purchases.set_index('PurchaseID', inplace=True)\n",
    "\n",
    "# Verificar el índice\n",
    "print(purchases.head())\n"
   ]
  },
  {
   "cell_type": "code",
   "execution_count": 582,
   "metadata": {},
   "outputs": [],
   "source": [
    "# Guardar el DataFrame con PurchaseID\n",
    "purchases.to_csv('Purchases.csv', index=True)\n"
   ]
  },
  {
   "cell_type": "markdown",
   "metadata": {},
   "source": [
    "### Analisis de tabla Sales"
   ]
  },
  {
   "cell_type": "code",
   "execution_count": 583,
   "metadata": {},
   "outputs": [
    {
     "data": {
      "text/html": [
       "<div>\n",
       "<style scoped>\n",
       "    .dataframe tbody tr th:only-of-type {\n",
       "        vertical-align: middle;\n",
       "    }\n",
       "\n",
       "    .dataframe tbody tr th {\n",
       "        vertical-align: top;\n",
       "    }\n",
       "\n",
       "    .dataframe thead th {\n",
       "        text-align: right;\n",
       "    }\n",
       "</style>\n",
       "<table border=\"1\" class=\"dataframe\">\n",
       "  <thead>\n",
       "    <tr style=\"text-align: right;\">\n",
       "      <th></th>\n",
       "      <th>InventoryId</th>\n",
       "      <th>Store</th>\n",
       "      <th>Brand</th>\n",
       "      <th>Description</th>\n",
       "      <th>Size</th>\n",
       "      <th>SalesQuantity</th>\n",
       "      <th>SalesDollars</th>\n",
       "      <th>SalesPrice</th>\n",
       "      <th>SalesDate</th>\n",
       "      <th>Volume</th>\n",
       "      <th>Classification</th>\n",
       "      <th>ExciseTax</th>\n",
       "      <th>VendorNo</th>\n",
       "      <th>VendorName</th>\n",
       "    </tr>\n",
       "  </thead>\n",
       "  <tbody>\n",
       "    <tr>\n",
       "      <th>0</th>\n",
       "      <td>1_HARDERSFIELD_1004</td>\n",
       "      <td>1</td>\n",
       "      <td>1004</td>\n",
       "      <td>Jim Beam w/2 Rocks Glasses</td>\n",
       "      <td>750mL</td>\n",
       "      <td>1</td>\n",
       "      <td>16.49</td>\n",
       "      <td>16.49</td>\n",
       "      <td>1/1/2016</td>\n",
       "      <td>750</td>\n",
       "      <td>1</td>\n",
       "      <td>0.79</td>\n",
       "      <td>12546</td>\n",
       "      <td>JIM BEAM BRANDS COMPANY</td>\n",
       "    </tr>\n",
       "    <tr>\n",
       "      <th>1</th>\n",
       "      <td>1_HARDERSFIELD_1004</td>\n",
       "      <td>1</td>\n",
       "      <td>1004</td>\n",
       "      <td>Jim Beam w/2 Rocks Glasses</td>\n",
       "      <td>750mL</td>\n",
       "      <td>2</td>\n",
       "      <td>32.98</td>\n",
       "      <td>16.49</td>\n",
       "      <td>1/2/2016</td>\n",
       "      <td>750</td>\n",
       "      <td>1</td>\n",
       "      <td>1.57</td>\n",
       "      <td>12546</td>\n",
       "      <td>JIM BEAM BRANDS COMPANY</td>\n",
       "    </tr>\n",
       "    <tr>\n",
       "      <th>2</th>\n",
       "      <td>1_HARDERSFIELD_1004</td>\n",
       "      <td>1</td>\n",
       "      <td>1004</td>\n",
       "      <td>Jim Beam w/2 Rocks Glasses</td>\n",
       "      <td>750mL</td>\n",
       "      <td>1</td>\n",
       "      <td>16.49</td>\n",
       "      <td>16.49</td>\n",
       "      <td>1/3/2016</td>\n",
       "      <td>750</td>\n",
       "      <td>1</td>\n",
       "      <td>0.79</td>\n",
       "      <td>12546</td>\n",
       "      <td>JIM BEAM BRANDS COMPANY</td>\n",
       "    </tr>\n",
       "    <tr>\n",
       "      <th>3</th>\n",
       "      <td>1_HARDERSFIELD_1004</td>\n",
       "      <td>1</td>\n",
       "      <td>1004</td>\n",
       "      <td>Jim Beam w/2 Rocks Glasses</td>\n",
       "      <td>750mL</td>\n",
       "      <td>1</td>\n",
       "      <td>14.49</td>\n",
       "      <td>14.49</td>\n",
       "      <td>1/8/2016</td>\n",
       "      <td>750</td>\n",
       "      <td>1</td>\n",
       "      <td>0.79</td>\n",
       "      <td>12546</td>\n",
       "      <td>JIM BEAM BRANDS COMPANY</td>\n",
       "    </tr>\n",
       "    <tr>\n",
       "      <th>4</th>\n",
       "      <td>1_HARDERSFIELD_1005</td>\n",
       "      <td>1</td>\n",
       "      <td>1005</td>\n",
       "      <td>Maker's Mark Combo Pack</td>\n",
       "      <td>375mL 2 Pk</td>\n",
       "      <td>2</td>\n",
       "      <td>69.98</td>\n",
       "      <td>34.99</td>\n",
       "      <td>1/9/2016</td>\n",
       "      <td>375</td>\n",
       "      <td>1</td>\n",
       "      <td>0.79</td>\n",
       "      <td>12546</td>\n",
       "      <td>JIM BEAM BRANDS COMPANY</td>\n",
       "    </tr>\n",
       "  </tbody>\n",
       "</table>\n",
       "</div>"
      ],
      "text/plain": [
       "           InventoryId  Store  Brand                 Description        Size  \\\n",
       "0  1_HARDERSFIELD_1004      1   1004  Jim Beam w/2 Rocks Glasses       750mL   \n",
       "1  1_HARDERSFIELD_1004      1   1004  Jim Beam w/2 Rocks Glasses       750mL   \n",
       "2  1_HARDERSFIELD_1004      1   1004  Jim Beam w/2 Rocks Glasses       750mL   \n",
       "3  1_HARDERSFIELD_1004      1   1004  Jim Beam w/2 Rocks Glasses       750mL   \n",
       "4  1_HARDERSFIELD_1005      1   1005     Maker's Mark Combo Pack  375mL 2 Pk   \n",
       "\n",
       "   SalesQuantity  SalesDollars  SalesPrice SalesDate  Volume  Classification  \\\n",
       "0              1         16.49       16.49  1/1/2016     750               1   \n",
       "1              2         32.98       16.49  1/2/2016     750               1   \n",
       "2              1         16.49       16.49  1/3/2016     750               1   \n",
       "3              1         14.49       14.49  1/8/2016     750               1   \n",
       "4              2         69.98       34.99  1/9/2016     375               1   \n",
       "\n",
       "   ExciseTax  VendorNo                   VendorName  \n",
       "0       0.79     12546  JIM BEAM BRANDS COMPANY      \n",
       "1       1.57     12546  JIM BEAM BRANDS COMPANY      \n",
       "2       0.79     12546  JIM BEAM BRANDS COMPANY      \n",
       "3       0.79     12546  JIM BEAM BRANDS COMPANY      \n",
       "4       0.79     12546  JIM BEAM BRANDS COMPANY      "
      ]
     },
     "execution_count": 583,
     "metadata": {},
     "output_type": "execute_result"
    }
   ],
   "source": [
    "sales=pd.read_csv('Sales.csv')\n",
    "sales.head()"
   ]
  },
  {
   "cell_type": "markdown",
   "metadata": {},
   "source": [
    "#### Borrar columnas innecesarias"
   ]
  },
  {
   "cell_type": "code",
   "execution_count": 584,
   "metadata": {},
   "outputs": [
    {
     "name": "stdout",
     "output_type": "stream",
     "text": [
      "Tipos de datos después de las modificaciones:\n",
      "SalesID                    int64\n",
      "InventoryId               object\n",
      "Store                      int64\n",
      "Brand                      int64\n",
      "Description               object\n",
      "Size                      object\n",
      "SalesQuantity              int64\n",
      "SalesDollars             float64\n",
      "SalesPrice               float64\n",
      "SalesDate         datetime64[ns]\n",
      "size_ml                    int64\n",
      "Classification             int64\n",
      "ExciseTax                float64\n",
      "VendorNumber               int64\n",
      "VendorName                object\n",
      "dtype: object\n",
      "Primeras filas del DataFrame modificado:\n",
      "   SalesID          InventoryId  Store  Brand                 Description  \\\n",
      "0        1  1_hardersfield_1004      1   1004  Jim Beam w/2 Rocks Glasses   \n",
      "1        2  1_hardersfield_1004      1   1004  Jim Beam w/2 Rocks Glasses   \n",
      "2        3  1_hardersfield_1004      1   1004  Jim Beam w/2 Rocks Glasses   \n",
      "3        4  1_hardersfield_1004      1   1004  Jim Beam w/2 Rocks Glasses   \n",
      "4        5  1_hardersfield_1005      1   1005     Maker's Mark Combo Pack   \n",
      "\n",
      "         Size  SalesQuantity  SalesDollars  SalesPrice  SalesDate  size_ml  \\\n",
      "0       750mL              1         16.49       16.49 2016-01-01      750   \n",
      "1       750mL              2         32.98       16.49 2016-01-02      750   \n",
      "2       750mL              1         16.49       16.49 2016-01-03      750   \n",
      "3       750mL              1         14.49       14.49 2016-01-08      750   \n",
      "4  375mL 2 Pk              2         69.98       34.99 2016-01-09      375   \n",
      "\n",
      "   Classification  ExciseTax  VendorNumber                   VendorName  \n",
      "0               1       0.79         12546  JIM BEAM BRANDS COMPANY      \n",
      "1               1       1.57         12546  JIM BEAM BRANDS COMPANY      \n",
      "2               1       0.79         12546  JIM BEAM BRANDS COMPANY      \n",
      "3               1       0.79         12546  JIM BEAM BRANDS COMPANY      \n",
      "4               1       0.79         12546  JIM BEAM BRANDS COMPANY      \n"
     ]
    }
   ],
   "source": [
    "\n",
    "# Función para limpiar y normalizar cadenas de texto\n",
    "def clean_string(value):\n",
    "    if pd.isnull(value):  # Si el valor es nulo, lo retorna tal cual\n",
    "        return value\n",
    "    # Normalizar texto para eliminar acentos y caracteres especiales\n",
    "    value = unicodedata.normalize('NFKD', value).encode('ascii', 'ignore').decode('utf-8')\n",
    "    # Convertir a minúsculas, eliminar espacios extra y quitar espacios al inicio y final\n",
    "    return ' '.join(value.strip().lower().split())\n",
    "\n",
    "# Asegurar que InventoryId sea string\n",
    "sales['InventoryId'] = sales['InventoryId'].astype('string')\n",
    "\n",
    "# Aplicar limpieza a todas las columnas de tipo string\n",
    "string_columns = sales.select_dtypes(include=['string']).columns\n",
    "for col in string_columns:\n",
    "    sales[col] = sales[col].apply(clean_string)\n",
    "\n",
    "# Renombrar columnas según lo solicitado\n",
    "sales.rename(columns={\n",
    "    'VendorNo': 'VendorNumber',\n",
    "    'Volume': 'size_ml',\n",
    "    'SalesDate': 'SalesDate'\n",
    "}, inplace=True)\n",
    "\n",
    "# Convertir SalesDate a formato datetime\n",
    "sales['SalesDate'] = pd.to_datetime(sales['SalesDate'], errors='coerce')\n",
    "\n",
    "# Crear la columna índice SalesID\n",
    "sales['SalesID'] = range(1, len(sales) + 1)\n",
    "\n",
    "# Mover SalesID al inicio del DataFrame\n",
    "sales = sales[['SalesID'] + [col for col in sales.columns if col != 'SalesID']]\n",
    "\n",
    "# Verificar los cambios realizados\n",
    "print(\"Tipos de datos después de las modificaciones:\")\n",
    "print(sales.dtypes)\n",
    "\n",
    "print(\"Primeras filas del DataFrame modificado:\")\n",
    "print(sales.head())\n"
   ]
  },
  {
   "cell_type": "code",
   "execution_count": 586,
   "metadata": {},
   "outputs": [
    {
     "name": "stdout",
     "output_type": "stream",
     "text": [
      "Valores nulos por columna:\n",
      "SalesID           0\n",
      "InventoryId       0\n",
      "Store             0\n",
      "Brand             0\n",
      "Description       0\n",
      "Size              0\n",
      "SalesQuantity     0\n",
      "SalesDollars      0\n",
      "SalesPrice        0\n",
      "SalesDate         0\n",
      "size_ml           0\n",
      "Classification    0\n",
      "ExciseTax         0\n",
      "VendorNumber      0\n",
      "VendorName        0\n",
      "dtype: int64\n"
     ]
    }
   ],
   "source": [
    "# Verificar valores nulos en toda la tabla\n",
    "print(\"Valores nulos por columna:\")\n",
    "print(sales.isnull().sum())\n"
   ]
  },
  {
   "cell_type": "code",
   "execution_count": 587,
   "metadata": {},
   "outputs": [
    {
     "name": "stdout",
     "output_type": "stream",
     "text": [
      "Filas con fechas futuras: 0\n"
     ]
    }
   ],
   "source": [
    "# Verificar si hay fechas futuras\n",
    "future_dates = sales[sales['SalesDate'] > pd.Timestamp.today()]\n",
    "print(f\"Filas con fechas futuras: {len(future_dates)}\")\n"
   ]
  },
  {
   "cell_type": "code",
   "execution_count": 588,
   "metadata": {},
   "outputs": [
    {
     "name": "stdout",
     "output_type": "stream",
     "text": [
      "       SalesQuantity  SalesDollars    SalesPrice     ExciseTax\n",
      "count   1.048575e+06  1.048575e+06  1.048575e+06  1.048575e+06\n",
      "mean    2.337619e+00  3.160420e+01  1.543162e+01  1.326847e+00\n",
      "std     3.511492e+00  6.570249e+01  1.404967e+01  3.407898e+00\n",
      "min     1.000000e+00  4.900000e-01  4.900000e-01  1.000000e-02\n",
      "25%     1.000000e+00  1.099000e+01  8.990000e+00  1.600000e-01\n",
      "50%     1.000000e+00  1.799000e+01  1.299000e+01  6.800000e-01\n",
      "75%     2.000000e+00  3.199000e+01  1.899000e+01  1.570000e+00\n",
      "max     4.320000e+02  1.327997e+04  4.999990e+03  3.785200e+02\n",
      "Filas con valores negativos: 0\n"
     ]
    }
   ],
   "source": [
    "# Resumen estadístico para detectar outliers\n",
    "print(sales[['SalesQuantity', 'SalesDollars', 'SalesPrice', 'ExciseTax']].describe())\n",
    "\n",
    "# Verificar valores negativos en columnas que no deberían tenerlos\n",
    "negative_values = sales[(sales['SalesQuantity'] < 0) | (sales['SalesDollars'] < 0) | (sales['SalesPrice'] < 0)]\n",
    "print(f\"Filas con valores negativos: {len(negative_values)}\")\n"
   ]
  },
  {
   "cell_type": "code",
   "execution_count": 589,
   "metadata": {},
   "outputs": [
    {
     "name": "stdout",
     "output_type": "stream",
     "text": [
      "Filas con inconsistencias en SalesDollars: 26018\n"
     ]
    }
   ],
   "source": [
    "# Validar coherencia entre SalesDollars y SalesQuantity * SalesPrice\n",
    "sales['CalculatedSalesDollars'] = sales['SalesQuantity'] * sales['SalesPrice']\n",
    "inconsistencies = sales[sales['SalesDollars'] != sales['CalculatedSalesDollars']]\n",
    "print(f\"Filas con inconsistencias en SalesDollars: {len(inconsistencies)}\")\n"
   ]
  },
  {
   "cell_type": "code",
   "execution_count": 590,
   "metadata": {},
   "outputs": [
    {
     "name": "stdout",
     "output_type": "stream",
     "text": [
      "     SalesID           InventoryId  Store  Brand              Description  \\\n",
      "293      294  1_hardersfield_11213      1  11213            Meiomi Pnt Nr   \n",
      "648      649   1_hardersfield_1232      1   1232  Jack Daniels No 7 Black   \n",
      "651      652   1_hardersfield_1232      1   1232  Jack Daniels No 7 Black   \n",
      "654      655   1_hardersfield_1232      1   1232  Jack Daniels No 7 Black   \n",
      "661      662   1_hardersfield_1232      1   1232  Jack Daniels No 7 Black   \n",
      "667      668   1_hardersfield_1233      1   1233  Jack Daniels No 7 Black   \n",
      "671      672   1_hardersfield_1233      1   1233  Jack Daniels No 7 Black   \n",
      "673      674   1_hardersfield_1233      1   1233  Jack Daniels No 7 Black   \n",
      "676      677   1_hardersfield_1233      1   1233  Jack Daniels No 7 Black   \n",
      "684      685   1_hardersfield_1233      1   1233  Jack Daniels No 7 Black   \n",
      "\n",
      "      Size  SalesQuantity  SalesDollars  SalesPrice  SalesDate  size_ml  \\\n",
      "293  750mL              5        109.95       21.99 2016-01-27      750   \n",
      "648  750mL              5        114.95       22.99 2016-01-07      750   \n",
      "651  750mL              5        114.95       22.99 2016-01-11      750   \n",
      "654  750mL              5        114.95       22.99 2016-01-15      750   \n",
      "661  750mL              5        114.95       22.99 2016-01-24      750   \n",
      "667  1.75L              5        179.95       35.99 2016-01-02     1750   \n",
      "671  1.75L              5        179.95       35.99 2016-01-07     1750   \n",
      "673  1.75L              5        179.95       35.99 2016-01-10     1750   \n",
      "676  1.75L              5        179.95       35.99 2016-01-16     1750   \n",
      "684  1.75L              5        179.95       35.99 2016-01-31     1750   \n",
      "\n",
      "     Classification  ExciseTax  VendorNumber                   VendorName  \\\n",
      "293               2       0.56          1392  CONSTELLATION BRANDS INC      \n",
      "648               1       3.94          1128  BROWN-FORMAN CORP             \n",
      "651               1       3.94          1128  BROWN-FORMAN CORP             \n",
      "654               1       3.94          1128  BROWN-FORMAN CORP             \n",
      "661               1       3.94          1128  BROWN-FORMAN CORP             \n",
      "667               1       9.19          1128  BROWN-FORMAN CORP             \n",
      "671               1       9.19          1128  BROWN-FORMAN CORP             \n",
      "673               1       9.19          1128  BROWN-FORMAN CORP             \n",
      "676               1       9.19          1128  BROWN-FORMAN CORP             \n",
      "684               1       9.19          1128  BROWN-FORMAN CORP             \n",
      "\n",
      "     CalculatedSalesDollars  \n",
      "293                  109.95  \n",
      "648                  114.95  \n",
      "651                  114.95  \n",
      "654                  114.95  \n",
      "661                  114.95  \n",
      "667                  179.95  \n",
      "671                  179.95  \n",
      "673                  179.95  \n",
      "676                  179.95  \n",
      "684                  179.95  \n",
      "       SalesDollars  CalculatedSalesDollars\n",
      "count  26018.000000            26018.000000\n",
      "mean      98.136987               98.136987\n",
      "std      201.063172              201.063172\n",
      "min        2.970000                2.970000\n",
      "25%        5.940000                5.940000\n",
      "50%       29.850000               29.850000\n",
      "75%      125.930000              125.930000\n",
      "max    13279.970000            13279.970000\n"
     ]
    }
   ],
   "source": [
    "# Ver las primeras filas con inconsistencias\n",
    "print(sales[sales['SalesDollars'] != sales['CalculatedSalesDollars']].head(10))\n",
    "\n",
    "# Estadísticas descriptivas de las inconsistencias\n",
    "print(sales[sales['SalesDollars'] != sales['CalculatedSalesDollars']][['SalesDollars', 'CalculatedSalesDollars']].describe())\n"
   ]
  },
  {
   "cell_type": "markdown",
   "metadata": {},
   "source": [
    "esta todo ok"
   ]
  },
  {
   "cell_type": "code",
   "execution_count": 591,
   "metadata": {},
   "outputs": [
    {
     "name": "stdout",
     "output_type": "stream",
     "text": [
      "Filas con diferencias reales: 0\n",
      "Empty DataFrame\n",
      "Columns: [SalesID, InventoryId, Store, Brand, Description, Size, SalesQuantity, SalesDollars, SalesPrice, SalesDate, size_ml, Classification, ExciseTax, VendorNumber, VendorName, CalculatedSalesDollars]\n",
      "Index: []\n"
     ]
    }
   ],
   "source": [
    "# Definir un umbral de tolerancia para las diferencias flotantes\n",
    "epsilon = 1e-9\n",
    "\n",
    "# Verificar si hay diferencias reales dentro del umbral\n",
    "inconsistencies = sales[abs(sales['SalesDollars'] - sales['CalculatedSalesDollars']) > epsilon]\n",
    "\n",
    "# Mostrar la cantidad de filas con diferencias reales\n",
    "print(f\"Filas con diferencias reales: {len(inconsistencies)}\")\n",
    "print(inconsistencies.head(10))\n"
   ]
  },
  {
   "cell_type": "markdown",
   "metadata": {},
   "source": [
    "2. Ajustar los Valores si las Diferencias Son Insignificantes\n",
    "Si las diferencias son menores que un umbral razonable (por ejemplo, epsilon), ajusta SalesDollars para que coincida con CalculatedSalesDollars:"
   ]
  },
  {
   "cell_type": "code",
   "execution_count": 592,
   "metadata": {},
   "outputs": [
    {
     "name": "stdout",
     "output_type": "stream",
     "text": [
      "Inconsistencias restantes después del ajuste: 0\n"
     ]
    }
   ],
   "source": [
    "# Ajustar filas con diferencias menores al umbral\n",
    "sales.loc[abs(sales['SalesDollars'] - sales['CalculatedSalesDollars']) <= epsilon, 'SalesDollars'] = sales['CalculatedSalesDollars']\n",
    "\n",
    "# Verificar nuevamente las inconsistencias\n",
    "remaining_inconsistencies = sales[sales['SalesDollars'] != sales['CalculatedSalesDollars']]\n",
    "print(f\"Inconsistencias restantes después del ajuste: {len(remaining_inconsistencies)}\")\n"
   ]
  },
  {
   "cell_type": "code",
   "execution_count": 593,
   "metadata": {},
   "outputs": [
    {
     "name": "stdout",
     "output_type": "stream",
     "text": [
      "Filas duplicadas: 0\n"
     ]
    }
   ],
   "source": [
    "# Identificar duplicados\n",
    "duplicates = sales.duplicated()\n",
    "print(f\"Filas duplicadas: {duplicates.sum()}\")\n",
    "\n",
    "# Eliminar duplicados si los hay\n",
    "sales = sales.drop_duplicates()\n"
   ]
  },
  {
   "cell_type": "code",
   "execution_count": 594,
   "metadata": {},
   "outputs": [
    {
     "data": {
      "image/png": "[encoded data removed]",
      "text/plain": [
       "<Figure size 640x480 with 1 Axes>"
      ]
     },
     "metadata": {},
     "output_type": "display_data"
    }
   ],
   "source": [
    "\n",
    "# Visualizar outliers con boxplot\n",
    "sns.boxplot(data=sales[['SalesQuantity', 'SalesDollars', 'SalesPrice']])\n",
    "plt.title(\"Distribución de valores en columnas numéricas\")\n",
    "plt.show()\n"
   ]
  },
  {
   "cell_type": "code",
   "execution_count": 595,
   "metadata": {},
   "outputs": [
    {
     "name": "stdout",
     "output_type": "stream",
     "text": [
      "[  750   375    50   200  1500  5000  1000   100  1750  3000   187   500\n",
      "   250   300  4000   150   720   330   650   180 18000 20000]\n"
     ]
    }
   ],
   "source": [
    "# Verificar valores únicos en size_ml\n",
    "print(sales['size_ml'].unique())\n"
   ]
  },
  {
   "cell_type": "code",
   "execution_count": 596,
   "metadata": {},
   "outputs": [],
   "source": [
    "# Guardar el DataFrame limpio\n",
    "sales.to_csv('Sales.csv', index=False)\n"
   ]
  },
  {
   "cell_type": "markdown",
   "metadata": {},
   "source": [
    "### Analisis de EndInventory"
   ]
  },
  {
   "cell_type": "code",
   "execution_count": 597,
   "metadata": {},
   "outputs": [
    {
     "data": {
      "text/html": [
       "<div>\n",
       "<style scoped>\n",
       "    .dataframe tbody tr th:only-of-type {\n",
       "        vertical-align: middle;\n",
       "    }\n",
       "\n",
       "    .dataframe tbody tr th {\n",
       "        vertical-align: top;\n",
       "    }\n",
       "\n",
       "    .dataframe thead th {\n",
       "        text-align: right;\n",
       "    }\n",
       "</style>\n",
       "<table border=\"1\" class=\"dataframe\">\n",
       "  <thead>\n",
       "    <tr style=\"text-align: right;\">\n",
       "      <th></th>\n",
       "      <th>InventoryId</th>\n",
       "      <th>Store</th>\n",
       "      <th>City</th>\n",
       "      <th>Brand</th>\n",
       "      <th>Description</th>\n",
       "      <th>Size</th>\n",
       "      <th>onHand</th>\n",
       "      <th>Price</th>\n",
       "      <th>endDate</th>\n",
       "    </tr>\n",
       "  </thead>\n",
       "  <tbody>\n",
       "    <tr>\n",
       "      <th>0</th>\n",
       "      <td>1_HARDERSFIELD_58</td>\n",
       "      <td>1</td>\n",
       "      <td>HARDERSFIELD</td>\n",
       "      <td>58</td>\n",
       "      <td>Gekkeikan Black &amp; Gold Sake</td>\n",
       "      <td>750mL</td>\n",
       "      <td>11</td>\n",
       "      <td>12.99</td>\n",
       "      <td>2016-12-31</td>\n",
       "    </tr>\n",
       "    <tr>\n",
       "      <th>1</th>\n",
       "      <td>1_HARDERSFIELD_62</td>\n",
       "      <td>1</td>\n",
       "      <td>HARDERSFIELD</td>\n",
       "      <td>62</td>\n",
       "      <td>Herradura Silver Tequila</td>\n",
       "      <td>750mL</td>\n",
       "      <td>7</td>\n",
       "      <td>36.99</td>\n",
       "      <td>2016-12-31</td>\n",
       "    </tr>\n",
       "    <tr>\n",
       "      <th>2</th>\n",
       "      <td>1_HARDERSFIELD_63</td>\n",
       "      <td>1</td>\n",
       "      <td>HARDERSFIELD</td>\n",
       "      <td>63</td>\n",
       "      <td>Herradura Reposado Tequila</td>\n",
       "      <td>750mL</td>\n",
       "      <td>7</td>\n",
       "      <td>38.99</td>\n",
       "      <td>2016-12-31</td>\n",
       "    </tr>\n",
       "    <tr>\n",
       "      <th>3</th>\n",
       "      <td>1_HARDERSFIELD_72</td>\n",
       "      <td>1</td>\n",
       "      <td>HARDERSFIELD</td>\n",
       "      <td>72</td>\n",
       "      <td>No. 3 London Dry Gin</td>\n",
       "      <td>750mL</td>\n",
       "      <td>4</td>\n",
       "      <td>34.99</td>\n",
       "      <td>2016-12-31</td>\n",
       "    </tr>\n",
       "    <tr>\n",
       "      <th>4</th>\n",
       "      <td>1_HARDERSFIELD_75</td>\n",
       "      <td>1</td>\n",
       "      <td>HARDERSFIELD</td>\n",
       "      <td>75</td>\n",
       "      <td>Three Olives Tomato Vodka</td>\n",
       "      <td>750mL</td>\n",
       "      <td>7</td>\n",
       "      <td>14.99</td>\n",
       "      <td>2016-12-31</td>\n",
       "    </tr>\n",
       "  </tbody>\n",
       "</table>\n",
       "</div>"
      ],
      "text/plain": [
       "         InventoryId  Store          City  Brand                  Description  \\\n",
       "0  1_HARDERSFIELD_58      1  HARDERSFIELD     58  Gekkeikan Black & Gold Sake   \n",
       "1  1_HARDERSFIELD_62      1  HARDERSFIELD     62     Herradura Silver Tequila   \n",
       "2  1_HARDERSFIELD_63      1  HARDERSFIELD     63   Herradura Reposado Tequila   \n",
       "3  1_HARDERSFIELD_72      1  HARDERSFIELD     72         No. 3 London Dry Gin   \n",
       "4  1_HARDERSFIELD_75      1  HARDERSFIELD     75    Three Olives Tomato Vodka   \n",
       "\n",
       "    Size  onHand  Price     endDate  \n",
       "0  750mL      11  12.99  2016-12-31  \n",
       "1  750mL       7  36.99  2016-12-31  \n",
       "2  750mL       7  38.99  2016-12-31  \n",
       "3  750mL       4  34.99  2016-12-31  \n",
       "4  750mL       7  14.99  2016-12-31  "
      ]
     },
     "execution_count": 597,
     "metadata": {},
     "output_type": "execute_result"
    }
   ],
   "source": [
    "end_inventory=pd.read_csv('EndInv.csv')\n",
    "end_inventory.head()"
   ]
  },
  {
   "cell_type": "code",
   "execution_count": 598,
   "metadata": {},
   "outputs": [],
   "source": [
    "# Convertir a minúsculas y eliminar espacios en columnas de texto\n",
    "columns_to_clean = ['InventoryId', 'City', 'Description', 'Size']\n",
    "for col in columns_to_clean:\n",
    "    end_inventory[col] = end_inventory[col].str.strip().str.lower()\n",
    "\n",
    "# Convertir endDate al tipo datetime\n",
    "end_inventory['endDate'] = pd.to_datetime(end_inventory['endDate'], errors='coerce')\n",
    "\n",
    "# Verificar y manejar valores nulos\n",
    "end_inventory['Size'] = end_inventory['Size'].fillna('unknown')\n",
    "end_inventory['City'] = end_inventory['City'].fillna('unknown')\n",
    "end_inventory['Price'] = end_inventory['Price'].replace(0, np.nan)\n",
    "\n",
    "# Eliminar filas con valores nulos críticos (Price, endDate)\n",
    "end_inventory = end_inventory.dropna(subset=['Price', 'endDate'])\n",
    "\n",
    "# Revisar valores numéricos sospechosos en Price y onHand\n",
    "end_inventory = end_inventory[end_inventory['Price'] > 0]\n",
    "end_inventory = end_inventory[end_inventory['onHand'] >= 0]\n",
    "\n",
    "# Eliminar duplicados\n",
    "end_inventory = end_inventory.drop_duplicates()\n"
   ]
  },
  {
   "cell_type": "code",
   "execution_count": 599,
   "metadata": {},
   "outputs": [
    {
     "name": "stdout",
     "output_type": "stream",
     "text": [
      "Primeras filas del DataFrame después de procesar la columna 'Size':\n",
      "         Size  size_ml  pack_count\n",
      "0       750ml    750.0         1.0\n",
      "1       750ml    750.0         1.0\n",
      "2       750ml    750.0         1.0\n",
      "3       750ml    750.0         1.0\n",
      "4       750ml    750.0         1.0\n",
      "5       750ml    750.0         1.0\n",
      "6       750ml    750.0         1.0\n",
      "7       liter      NaN         NaN\n",
      "8       liter      NaN         NaN\n",
      "9  750ml + 2/    750.0         3.0\n",
      "Valores nulos en las columnas derivadas:\n",
      "size_ml       3867\n",
      "pack_count    3867\n",
      "dtype: int64\n",
      "Valores problemáticos en la columna 'Size':\n",
      "['liter' '3/100ml' '5.0 oz' '5/2 oz' '25.0' '128.0 gal']\n"
     ]
    }
   ],
   "source": [
    "\n",
    "# Definir la función para procesar la columna 'Size'\n",
    "def parse_size(size):\n",
    "    if pd.isnull(size):  # Verificar si el valor es nulo\n",
    "        return {\"size_ml\": np.nan, \"pack_count\": np.nan}  # Retorna valores nulos si el campo es vacío\n",
    "    \n",
    "    size = size.strip().lower()  # Elimina espacios al principio/final y convierte a minúsculas\n",
    "\n",
    "    #################################################################################################\n",
    "    # Manejar paquetes, como \"100mL 4 Pk\"\n",
    "    #################################################################################################\n",
    "    match = re.match(r\"(\\d+(?:\\.\\d+)?)(ml|l) (\\d+) pk\", size)  # Buscar coincidencias con regex\n",
    "    if match:\n",
    "        unit_size = float(match.group(1))  # Tamaño individual\n",
    "        if match.group(2) == 'l':  # Convertir litros a mililitros\n",
    "            unit_size *= 1000\n",
    "        pack_count = int(match.group(3))  # Número de botellas en el paquete\n",
    "        return {\"size_ml\": unit_size, \"pack_count\": pack_count}\n",
    "\n",
    "    #################################################################################################\n",
    "    # Manejar tamaños con adicionales, como \"750mL + 3/\"\n",
    "    #################################################################################################\n",
    "    match = re.match(r\"(\\d+(?:\\.\\d+)?)(ml|l)(?: \\+ (\\d+)/)?\", size)  # Buscar coincidencias con regex para valores con +\n",
    "    if match:\n",
    "        unit_size = float(match.group(1))  # Tamaño individual\n",
    "        if match.group(2) == 'l':  # Convertir litros a mililitros\n",
    "            unit_size *= 1000\n",
    "        additional_count = int(match.group(3)) if match.group(3) else 0  # Ítems adicionales\n",
    "        return {\"size_ml\": unit_size, \"pack_count\": 1 + additional_count}\n",
    "\n",
    "    #################################################################################################\n",
    "    # Manejar tamaños con número adicional separado por espacios, como \"750mL  3\"\n",
    "    #################################################################################################\n",
    "    match = re.match(r\"(\\d+(?:\\.\\d+)?)(ml|l)\\s+(\\d+)\", size)  # Buscar coincidencias con espacios adicionales\n",
    "    if match:\n",
    "        unit_size = float(match.group(1))  # Tamaño individual\n",
    "        if match.group(2) == 'l':  # Convertir litros a mililitros\n",
    "            unit_size *= 1000\n",
    "        pack_count = int(match.group(3))  # Número adicional\n",
    "        return {\"size_ml\": unit_size, \"pack_count\": pack_count}\n",
    "\n",
    "    #################################################################################################\n",
    "    # Manejar tamaños individuales, como \"750mL\" o \"162.5mL\"\n",
    "    #################################################################################################\n",
    "    match = re.match(r\"(\\d+(?:\\.\\d+)?)(ml|l)\", size)  # Busca tamaños individuales\n",
    "    if match:\n",
    "        unit_size = float(match.group(1))  # Tamaño individual\n",
    "        if match.group(2) == 'l':  # Convertir litros a mililitros\n",
    "            unit_size *= 1000\n",
    "        return {\"size_ml\": unit_size, \"pack_count\": 1}\n",
    "\n",
    "    #################################################################################################\n",
    "    # Retornar valores nulos si el tamaño no coincide con ningún patrón conocido\n",
    "    #################################################################################################\n",
    "    return {\"size_ml\": np.nan, \"pack_count\": np.nan}\n",
    "\n",
    "# Aplicar la función parse_size a la columna 'Size' en end_inventory\n",
    "size_data = end_inventory['Size'].apply(parse_size)\n",
    "\n",
    "# Crear nuevas columnas en el DataFrame\n",
    "end_inventory['size_ml'] = size_data.apply(lambda x: x['size_ml'])\n",
    "end_inventory['pack_count'] = size_data.apply(lambda x: x['pack_count'])\n",
    "\n",
    "# Verificar las primeras filas para confirmar resultados\n",
    "print(\"Primeras filas del DataFrame después de procesar la columna 'Size':\")\n",
    "print(end_inventory[['Size', 'size_ml', 'pack_count']].head(10))\n",
    "\n",
    "# Contar valores nulos para evaluar el éxito del procesamiento\n",
    "print(\"Valores nulos en las columnas derivadas:\")\n",
    "print(end_inventory[['size_ml', 'pack_count']].isnull().sum())\n",
    "\n",
    "# Identificar valores problemáticos\n",
    "problematic_rows = end_inventory[end_inventory['size_ml'].isnull()]\n",
    "print(\"Valores problemáticos en la columna 'Size':\")\n",
    "print(problematic_rows['Size'].unique())\n"
   ]
  },
  {
   "cell_type": "code",
   "execution_count": 600,
   "metadata": {},
   "outputs": [
    {
     "name": "stdout",
     "output_type": "stream",
     "text": [
      "Valores actualizados para los casos problemáticos:\n",
      "         Size  size_ml  pack_count\n",
      "7       liter   1000.0         1.0\n",
      "8       liter   1000.0         1.0\n",
      "17      liter   1000.0         1.0\n",
      "18      liter   1000.0         1.0\n",
      "24      liter   1000.0         1.0\n",
      "...       ...      ...         ...\n",
      "222159  liter   1000.0         1.0\n",
      "222371  liter   1000.0         1.0\n",
      "222373  liter   1000.0         1.0\n",
      "223507  liter   1000.0         1.0\n",
      "223776  liter   1000.0         1.0\n",
      "\n",
      "[3867 rows x 3 columns]\n"
     ]
    }
   ],
   "source": [
    "# Función para manejar valores problemáticos\n",
    "def handle_problematic_size(size):\n",
    "    if size == 'liter':\n",
    "        return {\"size_ml\": 1000, \"pack_count\": 1}\n",
    "    elif size == '3/100ml':\n",
    "        return {\"size_ml\": 100, \"pack_count\": 3}\n",
    "    elif size == '5.0 oz':\n",
    "        return {\"size_ml\": 5.0 * 29.5735, \"pack_count\": 1}\n",
    "    elif size == '5/2 oz':\n",
    "        return {\"size_ml\": 2 * 29.5735, \"pack_count\": 5}\n",
    "    elif size == '25.0':\n",
    "        return {\"size_ml\": np.nan, \"pack_count\": np.nan}  # Sin contexto, se deja como NaN\n",
    "    elif size == '128.0 gal':\n",
    "        return {\"size_ml\": 128.0 * 3785.41, \"pack_count\": 1}\n",
    "    else:\n",
    "        return {\"size_ml\": np.nan, \"pack_count\": np.nan}  # Valores no reconocidos\n",
    "\n",
    "# Aplicar la función a los valores problemáticos\n",
    "problematic_indices = end_inventory[end_inventory['Size'].isin(['liter', '3/100ml', '5.0 oz', '5/2 oz', '25.0', '128.0 gal'])].index\n",
    "corrected_sizes = end_inventory.loc[problematic_indices, 'Size'].apply(handle_problematic_size)\n",
    "\n",
    "# Actualizar las columnas size_ml y pack_count para estos valores\n",
    "end_inventory.loc[problematic_indices, 'size_ml'] = corrected_sizes.apply(lambda x: x['size_ml'])\n",
    "end_inventory.loc[problematic_indices, 'pack_count'] = corrected_sizes.apply(lambda x: x['pack_count'])\n",
    "\n",
    "# Verificar los cambios\n",
    "print(\"Valores actualizados para los casos problemáticos:\")\n",
    "print(end_inventory.loc[problematic_indices, ['Size', 'size_ml', 'pack_count']])\n"
   ]
  },
  {
   "cell_type": "code",
   "execution_count": 602,
   "metadata": {},
   "outputs": [],
   "source": [
    "# Guardar el DataFrame en un archivo CSV\n",
    "end_inventory.to_csv('endInventory.csv', index=False)\n",
    "\n"
   ]
  }
 ],
 "metadata": {
  "kernelspec": {
   "display_name": "venv",
   "language": "python",
   "name": "python3"
  },
  "language_info": {
   "codemirror_mode": {
    "name": "ipython",
    "version": 3
   },
   "file_extension": ".py",
   "mimetype": "text/x-python",
   "name": "python",
   "nbconvert_exporter": "python",
   "pygments_lexer": "ipython3",
   "version": "3.13.0"
  }
 },
 "nbformat": 4,
 "nbformat_minor": 2
}
